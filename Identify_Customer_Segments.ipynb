{
 "cells": [
  {
   "cell_type": "markdown",
   "metadata": {},
   "source": [
    "# Project: Identify Customer Segments\n",
    "\n",
    "In this project, you will apply unsupervised learning techniques to identify segments of the population that form the core customer base for a mail-order sales company in Germany. These segments can then be used to direct marketing campaigns towards audiences that will have the highest expected rate of returns. The data that you will use has been provided by our partners at Bertelsmann Arvato Analytics, and represents a real-life data science task.\n",
    "\n",
    "This notebook will help you complete this task by providing a framework within which you will perform your analysis steps. In each step of the project, you will see some text describing the subtask that you will perform, followed by one or more code cells for you to complete your work. **Feel free to add additional code and markdown cells as you go along so that you can explore everything in precise chunks.** The code cells provided in the base template will outline only the major tasks, and will usually not be enough to cover all of the minor tasks that comprise it.\n",
    "\n",
    "It should be noted that while there will be precise guidelines on how you should handle certain tasks in the project, there will also be places where an exact specification is not provided. **There will be times in the project where you will need to make and justify your own decisions on how to treat the data.** These are places where there may not be only one way to handle the data. In real-life tasks, there may be many valid ways to approach an analysis task. One of the most important things you can do is clearly document your approach so that other scientists can understand the decisions you've made.\n",
    "\n",
    "At the end of most sections, there will be a Markdown cell labeled **Discussion**. In these cells, you will report your findings for the completed section, as well as document the decisions that you made in your approach to each subtask. **Your project will be evaluated not just on the code used to complete the tasks outlined, but also your communication about your observations and conclusions at each stage.**"
   ]
  },
  {
   "cell_type": "code",
   "execution_count": 1,
   "metadata": {},
   "outputs": [],
   "source": [
    "# import libraries here; add more as necessary\n",
    "import numpy as np\n",
    "import pandas as pd\n",
    "import matplotlib.pyplot as plt\n",
    "import seaborn as sns\n",
    "import ast\n",
    "from sklearn.preprocessing import OneHotEncoder, StandardScaler\n",
    "from sklearn.decomposition import PCA\n",
    "from sklearn.cluster import KMeans\n",
    "import collections\n",
    "from sklearn.linear_model import MultiTaskElasticNet\n",
    "\n",
    "# magic word for producing visualizations in notebook\n",
    "%matplotlib inline"
   ]
  },
  {
   "cell_type": "markdown",
   "metadata": {},
   "source": [
    "### Step 0: Load the Data\n",
    "\n",
    "There are four files associated with this project (not including this one):\n",
    "\n",
    "- `Udacity_AZDIAS_Subset.csv`: Demographics data for the general population of Germany; 891211 persons (rows) x 85 features (columns).\n",
    "- `Udacity_CUSTOMERS_Subset.csv`: Demographics data for customers of a mail-order company; 191652 persons (rows) x 85 features (columns).\n",
    "- `Data_Dictionary.md`: Detailed information file about the features in the provided datasets.\n",
    "- `AZDIAS_Feature_Summary.csv`: Summary of feature attributes for demographics data; 85 features (rows) x 4 columns\n",
    "\n",
    "Each row of the demographics files represents a single person, but also includes information outside of individuals, including information about their household, building, and neighborhood. You will use this information to cluster the general population into groups with similar demographic properties. Then, you will see how the people in the customers dataset fit into those created clusters. The hope here is that certain clusters are over-represented in the customers data, as compared to the general population; those over-represented clusters will be assumed to be part of the core userbase. This information can then be used for further applications, such as targeting for a marketing campaign.\n",
    "\n",
    "To start off with, load in the demographics data for the general population into a pandas DataFrame, and do the same for the feature attributes summary. Note for all of the `.csv` data files in this project: they're semicolon (`;`) delimited, so you'll need an additional argument in your [`read_csv()`](https://pandas.pydata.org/pandas-docs/stable/generated/pandas.read_csv.html) call to read in the data properly. Also, considering the size of the main dataset, it may take some time for it to load completely.\n",
    "\n",
    "Once the dataset is loaded, it's recommended that you take a little bit of time just browsing the general structure of the dataset and feature summary file. You'll be getting deep into the innards of the cleaning in the first major step of the project, so gaining some general familiarity can help you get your bearings."
   ]
  },
  {
   "cell_type": "code",
   "execution_count": 2,
   "metadata": {},
   "outputs": [],
   "source": [
    "# Load in the general demographics data.\n",
    "azdias = pd.read_csv('Udacity_AZDIAS_Subset.csv', sep=';')\n",
    "\n",
    "# Load in the feature summary file.\n",
    "feat_info = pd.read_csv('AZDIAS_Feature_Summary.csv', sep=';')"
   ]
  },
  {
   "cell_type": "code",
   "execution_count": 3,
   "metadata": {},
   "outputs": [
    {
     "name": "stdout",
     "output_type": "stream",
     "text": [
      "(891221, 85)\n"
     ]
    },
    {
     "data": {
      "text/html": [
       "<div>\n",
       "<style>\n",
       "    .dataframe thead tr:only-child th {\n",
       "        text-align: right;\n",
       "    }\n",
       "\n",
       "    .dataframe thead th {\n",
       "        text-align: left;\n",
       "    }\n",
       "\n",
       "    .dataframe tbody tr th {\n",
       "        vertical-align: top;\n",
       "    }\n",
       "</style>\n",
       "<table border=\"1\" class=\"dataframe\">\n",
       "  <thead>\n",
       "    <tr style=\"text-align: right;\">\n",
       "      <th></th>\n",
       "      <th>AGER_TYP</th>\n",
       "      <th>ALTERSKATEGORIE_GROB</th>\n",
       "      <th>ANREDE_KZ</th>\n",
       "      <th>CJT_GESAMTTYP</th>\n",
       "      <th>FINANZ_MINIMALIST</th>\n",
       "      <th>FINANZ_SPARER</th>\n",
       "      <th>FINANZ_VORSORGER</th>\n",
       "      <th>FINANZ_ANLEGER</th>\n",
       "      <th>FINANZ_UNAUFFAELLIGER</th>\n",
       "      <th>FINANZ_HAUSBAUER</th>\n",
       "      <th>...</th>\n",
       "      <th>PLZ8_ANTG1</th>\n",
       "      <th>PLZ8_ANTG2</th>\n",
       "      <th>PLZ8_ANTG3</th>\n",
       "      <th>PLZ8_ANTG4</th>\n",
       "      <th>PLZ8_BAUMAX</th>\n",
       "      <th>PLZ8_HHZ</th>\n",
       "      <th>PLZ8_GBZ</th>\n",
       "      <th>ARBEIT</th>\n",
       "      <th>ORTSGR_KLS9</th>\n",
       "      <th>RELAT_AB</th>\n",
       "    </tr>\n",
       "  </thead>\n",
       "  <tbody>\n",
       "    <tr>\n",
       "      <th>0</th>\n",
       "      <td>-1</td>\n",
       "      <td>2</td>\n",
       "      <td>1</td>\n",
       "      <td>2.0</td>\n",
       "      <td>3</td>\n",
       "      <td>4</td>\n",
       "      <td>3</td>\n",
       "      <td>5</td>\n",
       "      <td>5</td>\n",
       "      <td>3</td>\n",
       "      <td>...</td>\n",
       "      <td>NaN</td>\n",
       "      <td>NaN</td>\n",
       "      <td>NaN</td>\n",
       "      <td>NaN</td>\n",
       "      <td>NaN</td>\n",
       "      <td>NaN</td>\n",
       "      <td>NaN</td>\n",
       "      <td>NaN</td>\n",
       "      <td>NaN</td>\n",
       "      <td>NaN</td>\n",
       "    </tr>\n",
       "    <tr>\n",
       "      <th>1</th>\n",
       "      <td>-1</td>\n",
       "      <td>1</td>\n",
       "      <td>2</td>\n",
       "      <td>5.0</td>\n",
       "      <td>1</td>\n",
       "      <td>5</td>\n",
       "      <td>2</td>\n",
       "      <td>5</td>\n",
       "      <td>4</td>\n",
       "      <td>5</td>\n",
       "      <td>...</td>\n",
       "      <td>2.0</td>\n",
       "      <td>3.0</td>\n",
       "      <td>2.0</td>\n",
       "      <td>1.0</td>\n",
       "      <td>1.0</td>\n",
       "      <td>5.0</td>\n",
       "      <td>4.0</td>\n",
       "      <td>3.0</td>\n",
       "      <td>5.0</td>\n",
       "      <td>4.0</td>\n",
       "    </tr>\n",
       "    <tr>\n",
       "      <th>2</th>\n",
       "      <td>-1</td>\n",
       "      <td>3</td>\n",
       "      <td>2</td>\n",
       "      <td>3.0</td>\n",
       "      <td>1</td>\n",
       "      <td>4</td>\n",
       "      <td>1</td>\n",
       "      <td>2</td>\n",
       "      <td>3</td>\n",
       "      <td>5</td>\n",
       "      <td>...</td>\n",
       "      <td>3.0</td>\n",
       "      <td>3.0</td>\n",
       "      <td>1.0</td>\n",
       "      <td>0.0</td>\n",
       "      <td>1.0</td>\n",
       "      <td>4.0</td>\n",
       "      <td>4.0</td>\n",
       "      <td>3.0</td>\n",
       "      <td>5.0</td>\n",
       "      <td>2.0</td>\n",
       "    </tr>\n",
       "    <tr>\n",
       "      <th>3</th>\n",
       "      <td>2</td>\n",
       "      <td>4</td>\n",
       "      <td>2</td>\n",
       "      <td>2.0</td>\n",
       "      <td>4</td>\n",
       "      <td>2</td>\n",
       "      <td>5</td>\n",
       "      <td>2</td>\n",
       "      <td>1</td>\n",
       "      <td>2</td>\n",
       "      <td>...</td>\n",
       "      <td>2.0</td>\n",
       "      <td>2.0</td>\n",
       "      <td>2.0</td>\n",
       "      <td>0.0</td>\n",
       "      <td>1.0</td>\n",
       "      <td>3.0</td>\n",
       "      <td>4.0</td>\n",
       "      <td>2.0</td>\n",
       "      <td>3.0</td>\n",
       "      <td>3.0</td>\n",
       "    </tr>\n",
       "    <tr>\n",
       "      <th>4</th>\n",
       "      <td>-1</td>\n",
       "      <td>3</td>\n",
       "      <td>1</td>\n",
       "      <td>5.0</td>\n",
       "      <td>4</td>\n",
       "      <td>3</td>\n",
       "      <td>4</td>\n",
       "      <td>1</td>\n",
       "      <td>3</td>\n",
       "      <td>2</td>\n",
       "      <td>...</td>\n",
       "      <td>2.0</td>\n",
       "      <td>4.0</td>\n",
       "      <td>2.0</td>\n",
       "      <td>1.0</td>\n",
       "      <td>2.0</td>\n",
       "      <td>3.0</td>\n",
       "      <td>3.0</td>\n",
       "      <td>4.0</td>\n",
       "      <td>6.0</td>\n",
       "      <td>5.0</td>\n",
       "    </tr>\n",
       "  </tbody>\n",
       "</table>\n",
       "<p>5 rows × 85 columns</p>\n",
       "</div>"
      ],
      "text/plain": [
       "   AGER_TYP  ALTERSKATEGORIE_GROB  ANREDE_KZ  CJT_GESAMTTYP  \\\n",
       "0        -1                     2          1            2.0   \n",
       "1        -1                     1          2            5.0   \n",
       "2        -1                     3          2            3.0   \n",
       "3         2                     4          2            2.0   \n",
       "4        -1                     3          1            5.0   \n",
       "\n",
       "   FINANZ_MINIMALIST  FINANZ_SPARER  FINANZ_VORSORGER  FINANZ_ANLEGER  \\\n",
       "0                  3              4                 3               5   \n",
       "1                  1              5                 2               5   \n",
       "2                  1              4                 1               2   \n",
       "3                  4              2                 5               2   \n",
       "4                  4              3                 4               1   \n",
       "\n",
       "   FINANZ_UNAUFFAELLIGER  FINANZ_HAUSBAUER    ...     PLZ8_ANTG1  PLZ8_ANTG2  \\\n",
       "0                      5                 3    ...            NaN         NaN   \n",
       "1                      4                 5    ...            2.0         3.0   \n",
       "2                      3                 5    ...            3.0         3.0   \n",
       "3                      1                 2    ...            2.0         2.0   \n",
       "4                      3                 2    ...            2.0         4.0   \n",
       "\n",
       "   PLZ8_ANTG3  PLZ8_ANTG4  PLZ8_BAUMAX  PLZ8_HHZ  PLZ8_GBZ  ARBEIT  \\\n",
       "0         NaN         NaN          NaN       NaN       NaN     NaN   \n",
       "1         2.0         1.0          1.0       5.0       4.0     3.0   \n",
       "2         1.0         0.0          1.0       4.0       4.0     3.0   \n",
       "3         2.0         0.0          1.0       3.0       4.0     2.0   \n",
       "4         2.0         1.0          2.0       3.0       3.0     4.0   \n",
       "\n",
       "   ORTSGR_KLS9  RELAT_AB  \n",
       "0          NaN       NaN  \n",
       "1          5.0       4.0  \n",
       "2          5.0       2.0  \n",
       "3          3.0       3.0  \n",
       "4          6.0       5.0  \n",
       "\n",
       "[5 rows x 85 columns]"
      ]
     },
     "execution_count": 3,
     "metadata": {},
     "output_type": "execute_result"
    }
   ],
   "source": [
    "# Check the structure of the data after it's loaded (e.g. print the number of\n",
    "# rows and columns, print the first few rows).\n",
    "print(azdias.shape)\n",
    "azdias.head()"
   ]
  },
  {
   "cell_type": "code",
   "execution_count": 4,
   "metadata": {},
   "outputs": [
    {
     "name": "stdout",
     "output_type": "stream",
     "text": [
      "(85, 4)\n"
     ]
    },
    {
     "data": {
      "text/html": [
       "<div>\n",
       "<style>\n",
       "    .dataframe thead tr:only-child th {\n",
       "        text-align: right;\n",
       "    }\n",
       "\n",
       "    .dataframe thead th {\n",
       "        text-align: left;\n",
       "    }\n",
       "\n",
       "    .dataframe tbody tr th {\n",
       "        vertical-align: top;\n",
       "    }\n",
       "</style>\n",
       "<table border=\"1\" class=\"dataframe\">\n",
       "  <thead>\n",
       "    <tr style=\"text-align: right;\">\n",
       "      <th></th>\n",
       "      <th>attribute</th>\n",
       "      <th>information_level</th>\n",
       "      <th>type</th>\n",
       "      <th>missing_or_unknown</th>\n",
       "    </tr>\n",
       "  </thead>\n",
       "  <tbody>\n",
       "    <tr>\n",
       "      <th>0</th>\n",
       "      <td>AGER_TYP</td>\n",
       "      <td>person</td>\n",
       "      <td>categorical</td>\n",
       "      <td>[-1,0]</td>\n",
       "    </tr>\n",
       "    <tr>\n",
       "      <th>1</th>\n",
       "      <td>ALTERSKATEGORIE_GROB</td>\n",
       "      <td>person</td>\n",
       "      <td>ordinal</td>\n",
       "      <td>[-1,0,9]</td>\n",
       "    </tr>\n",
       "    <tr>\n",
       "      <th>2</th>\n",
       "      <td>ANREDE_KZ</td>\n",
       "      <td>person</td>\n",
       "      <td>categorical</td>\n",
       "      <td>[-1,0]</td>\n",
       "    </tr>\n",
       "    <tr>\n",
       "      <th>3</th>\n",
       "      <td>CJT_GESAMTTYP</td>\n",
       "      <td>person</td>\n",
       "      <td>categorical</td>\n",
       "      <td>[0]</td>\n",
       "    </tr>\n",
       "    <tr>\n",
       "      <th>4</th>\n",
       "      <td>FINANZ_MINIMALIST</td>\n",
       "      <td>person</td>\n",
       "      <td>ordinal</td>\n",
       "      <td>[-1]</td>\n",
       "    </tr>\n",
       "  </tbody>\n",
       "</table>\n",
       "</div>"
      ],
      "text/plain": [
       "              attribute information_level         type missing_or_unknown\n",
       "0              AGER_TYP            person  categorical             [-1,0]\n",
       "1  ALTERSKATEGORIE_GROB            person      ordinal           [-1,0,9]\n",
       "2             ANREDE_KZ            person  categorical             [-1,0]\n",
       "3         CJT_GESAMTTYP            person  categorical                [0]\n",
       "4     FINANZ_MINIMALIST            person      ordinal               [-1]"
      ]
     },
     "execution_count": 4,
     "metadata": {},
     "output_type": "execute_result"
    }
   ],
   "source": [
    "print(feat_info.shape)\n",
    "feat_info.head()"
   ]
  },
  {
   "cell_type": "code",
   "execution_count": 5,
   "metadata": {},
   "outputs": [],
   "source": [
    "# Make copies of dataframes to process data\n",
    "df_az = azdias.copy()\n",
    "df_info = feat_info.copy()"
   ]
  },
  {
   "cell_type": "markdown",
   "metadata": {},
   "source": [
    "> **Tip**: Add additional cells to keep everything in reasonably-sized chunks! Keyboard shortcut `esc --> a` (press escape to enter command mode, then press the 'A' key) adds a new cell before the active cell, and `esc --> b` adds a new cell after the active cell. If you need to convert an active cell to a markdown cell, use `esc --> m` and to convert to a code cell, use `esc --> y`. \n",
    "\n",
    "## Step 1: Preprocessing\n",
    "\n",
    "### Step 1.1: Assess Missing Data\n",
    "\n",
    "The feature summary file contains a summary of properties for each demographics data column. You will use this file to help you make cleaning decisions during this stage of the project. First of all, you should assess the demographics data in terms of missing data. Pay attention to the following points as you perform your analysis, and take notes on what you observe. Make sure that you fill in the **Discussion** cell with your findings and decisions at the end of each step that has one!\n",
    "\n",
    "#### Step 1.1.1: Convert Missing Value Codes to NaNs\n",
    "The fourth column of the feature attributes summary (loaded in above as `feat_info`) documents the codes from the data dictionary that indicate missing or unknown data. While the file encodes this as a list (e.g. `[-1,0]`), this will get read in as a string object. You'll need to do a little bit of parsing to make use of it to identify and clean the data. Convert data that matches a 'missing' or 'unknown' value code into a numpy NaN value. You might want to see how much data takes on a 'missing' or 'unknown' code, and how much data is naturally missing, as a point of interest.\n",
    "\n",
    "**As one more reminder, you are encouraged to add additional cells to break up your analysis into manageable chunks.**"
   ]
  },
  {
   "cell_type": "code",
   "execution_count": 6,
   "metadata": {},
   "outputs": [
    {
     "data": {
      "text/plain": [
       "4896838"
      ]
     },
     "execution_count": 6,
     "metadata": {},
     "output_type": "execute_result"
    }
   ],
   "source": [
    "# How much data is missing from loaded file\n",
    "df_az.isnull().sum().sum()"
   ]
  },
  {
   "cell_type": "code",
   "execution_count": 7,
   "metadata": {},
   "outputs": [
    {
     "data": {
      "text/html": [
       "<div>\n",
       "<style>\n",
       "    .dataframe thead tr:only-child th {\n",
       "        text-align: right;\n",
       "    }\n",
       "\n",
       "    .dataframe thead th {\n",
       "        text-align: left;\n",
       "    }\n",
       "\n",
       "    .dataframe tbody tr th {\n",
       "        vertical-align: top;\n",
       "    }\n",
       "</style>\n",
       "<table border=\"1\" class=\"dataframe\">\n",
       "  <thead>\n",
       "    <tr style=\"text-align: right;\">\n",
       "      <th></th>\n",
       "      <th>attribute</th>\n",
       "      <th>information_level</th>\n",
       "      <th>type</th>\n",
       "      <th>missing_or_unknown</th>\n",
       "    </tr>\n",
       "  </thead>\n",
       "  <tbody>\n",
       "    <tr>\n",
       "      <th>0</th>\n",
       "      <td>AGER_TYP</td>\n",
       "      <td>person</td>\n",
       "      <td>categorical</td>\n",
       "      <td>[-1,0]</td>\n",
       "    </tr>\n",
       "    <tr>\n",
       "      <th>1</th>\n",
       "      <td>ALTERSKATEGORIE_GROB</td>\n",
       "      <td>person</td>\n",
       "      <td>ordinal</td>\n",
       "      <td>[-1,0,9]</td>\n",
       "    </tr>\n",
       "    <tr>\n",
       "      <th>2</th>\n",
       "      <td>ANREDE_KZ</td>\n",
       "      <td>person</td>\n",
       "      <td>categorical</td>\n",
       "      <td>[-1,0]</td>\n",
       "    </tr>\n",
       "    <tr>\n",
       "      <th>3</th>\n",
       "      <td>CJT_GESAMTTYP</td>\n",
       "      <td>person</td>\n",
       "      <td>categorical</td>\n",
       "      <td>[0]</td>\n",
       "    </tr>\n",
       "    <tr>\n",
       "      <th>4</th>\n",
       "      <td>FINANZ_MINIMALIST</td>\n",
       "      <td>person</td>\n",
       "      <td>ordinal</td>\n",
       "      <td>[-1]</td>\n",
       "    </tr>\n",
       "  </tbody>\n",
       "</table>\n",
       "</div>"
      ],
      "text/plain": [
       "              attribute information_level         type missing_or_unknown\n",
       "0              AGER_TYP            person  categorical             [-1,0]\n",
       "1  ALTERSKATEGORIE_GROB            person      ordinal           [-1,0,9]\n",
       "2             ANREDE_KZ            person  categorical             [-1,0]\n",
       "3         CJT_GESAMTTYP            person  categorical                [0]\n",
       "4     FINANZ_MINIMALIST            person      ordinal               [-1]"
      ]
     },
     "execution_count": 7,
     "metadata": {},
     "output_type": "execute_result"
    }
   ],
   "source": [
    "df_info.head()"
   ]
  },
  {
   "cell_type": "code",
   "execution_count": 8,
   "metadata": {},
   "outputs": [
    {
     "data": {
      "text/html": [
       "<div>\n",
       "<style>\n",
       "    .dataframe thead tr:only-child th {\n",
       "        text-align: right;\n",
       "    }\n",
       "\n",
       "    .dataframe thead th {\n",
       "        text-align: left;\n",
       "    }\n",
       "\n",
       "    .dataframe tbody tr th {\n",
       "        vertical-align: top;\n",
       "    }\n",
       "</style>\n",
       "<table border=\"1\" class=\"dataframe\">\n",
       "  <thead>\n",
       "    <tr style=\"text-align: right;\">\n",
       "      <th></th>\n",
       "      <th>information_level</th>\n",
       "      <th>type</th>\n",
       "      <th>missing_or_unknown</th>\n",
       "    </tr>\n",
       "    <tr>\n",
       "      <th>attribute</th>\n",
       "      <th></th>\n",
       "      <th></th>\n",
       "      <th></th>\n",
       "    </tr>\n",
       "  </thead>\n",
       "  <tbody>\n",
       "    <tr>\n",
       "      <th>CAMEO_DEUG_2015</th>\n",
       "      <td>microcell_rr4</td>\n",
       "      <td>categorical</td>\n",
       "      <td>[-1,X]</td>\n",
       "    </tr>\n",
       "    <tr>\n",
       "      <th>CAMEO_DEU_2015</th>\n",
       "      <td>microcell_rr4</td>\n",
       "      <td>categorical</td>\n",
       "      <td>[XX]</td>\n",
       "    </tr>\n",
       "    <tr>\n",
       "      <th>CAMEO_INTL_2015</th>\n",
       "      <td>microcell_rr4</td>\n",
       "      <td>mixed</td>\n",
       "      <td>[-1,XX]</td>\n",
       "    </tr>\n",
       "  </tbody>\n",
       "</table>\n",
       "</div>"
      ],
      "text/plain": [
       "                information_level         type missing_or_unknown\n",
       "attribute                                                        \n",
       "CAMEO_DEUG_2015     microcell_rr4  categorical             [-1,X]\n",
       "CAMEO_DEU_2015      microcell_rr4  categorical               [XX]\n",
       "CAMEO_INTL_2015     microcell_rr4        mixed            [-1,XX]"
      ]
     },
     "execution_count": 8,
     "metadata": {},
     "output_type": "execute_result"
    }
   ],
   "source": [
    "# Missing values with X and XX\n",
    "df_info.set_index('attribute').loc[['CAMEO_DEUG_2015', 'CAMEO_DEU_2015', 'CAMEO_INTL_2015']]"
   ]
  },
  {
   "cell_type": "code",
   "execution_count": 9,
   "metadata": {},
   "outputs": [],
   "source": [
    "# Identify missing or unknown data values and convert them to NaNs.\n",
    "# Missing values with X or XX doesn't work with ast.literal_eval, must use an except clause.\n",
    "for i, row in df_info.iterrows():\n",
    "        try:\n",
    "            df_az[row['attribute']].replace(ast.literal_eval(row['missing_or_unknown']), np.nan, inplace=True)\n",
    "        except:\n",
    "            df_az[row['attribute']].replace(['-1', 'X', 'XX'], np.nan, inplace=True)"
   ]
  },
  {
   "cell_type": "code",
   "execution_count": 10,
   "metadata": {},
   "outputs": [
    {
     "data": {
      "text/plain": [
       "8373929"
      ]
     },
     "execution_count": 10,
     "metadata": {},
     "output_type": "execute_result"
    }
   ],
   "source": [
    "# How many NaN values in the dataframe after filling in for encoded missing values\n",
    "df_az.isnull().sum().sum()"
   ]
  },
  {
   "cell_type": "markdown",
   "metadata": {},
   "source": [
    "#### Step 1.1.2: Assess Missing Data in Each Column\n",
    "\n",
    "How much missing data is present in each column? There are a few columns that are outliers in terms of the proportion of values that are missing. You will want to use matplotlib's [`hist()`](https://matplotlib.org/api/_as_gen/matplotlib.pyplot.hist.html) function to visualize the distribution of missing value counts to find these columns. Identify and document these columns. While some of these columns might have justifications for keeping or re-encoding the data, for this project you should just remove them from the dataframe. (Feel free to make remarks about these outlier columns in the discussion, however!)\n",
    "\n",
    "For the remaining features, are there any patterns in which columns have, or share, missing data?"
   ]
  },
  {
   "cell_type": "code",
   "execution_count": 11,
   "metadata": {},
   "outputs": [
    {
     "name": "stdout",
     "output_type": "stream",
     "text": [
      "AGER_TYP                685843\n",
      "ALTERSKATEGORIE_GROB      2881\n",
      "ANREDE_KZ                    0\n",
      "CJT_GESAMTTYP             4854\n",
      "FINANZ_MINIMALIST            0\n",
      "dtype: int64\n"
     ]
    },
    {
     "data": {
      "image/png": "[encoded data removed]",
      "text/plain": [
       "<matplotlib.figure.Figure at 0x7f18d8033780>"
      ]
     },
     "metadata": {},
     "output_type": "display_data"
    }
   ],
   "source": [
    "# Perform an assessment of how much missing data there is in each column of the\n",
    "# dataset.\n",
    "missing_data = df_az.isnull().sum()\n",
    "print(missing_data.head())\n",
    "\n",
    "# Investigate patterns in the amount of missing data in each column.\n",
    "plt.hist(missing_data, 50)\n",
    "plt.xlabel('Missing Values')\n",
    "plt.ylabel('Number of columns')\n",
    "plt.title('Histogram of Missing Values in Columns');"
   ]
  },
  {
   "cell_type": "code",
   "execution_count": 12,
   "metadata": {},
   "outputs": [
    {
     "name": "stdout",
     "output_type": "stream",
     "text": [
      "Number of dropped columns:  6\n",
      "['AGER_TYP' 'GEBURTSJAHR' 'TITEL_KZ' 'ALTER_HH' 'KK_KUNDENTYP'\n",
      " 'KBA05_BAUMAX']\n"
     ]
    }
   ],
   "source": [
    "# Lets keep columns with less than 200,000 missing values.\n",
    "# Keep columns dropped in columns_to_drop\n",
    "columns_to_drop = missing_data[missing_data > 200000].index.values\n",
    "df_az.drop(columns_to_drop, axis=1, inplace=True)\n",
    "print('Number of dropped columns: ', len(columns_to_drop))\n",
    "print(columns_to_drop)"
   ]
  },
  {
   "cell_type": "code",
   "execution_count": 13,
   "metadata": {},
   "outputs": [
    {
     "name": "stdout",
     "output_type": "stream",
     "text": [
      "There are 24 columns with 0 NaNs\n",
      "There are 6 columns with 4854 NaNs\n",
      "There are 4 columns with 73499 NaNs\n",
      "There are 2 columns with 77792 NaNs\n",
      "There are 4 columns with 93148 NaNs\n",
      "There are 3 columns with 93740 NaNs\n",
      "There are 2 columns with 97375 NaNs\n",
      "There are 3 columns with 99352 NaNs\n",
      "There are 3 columns with 111196 NaNs\n",
      "There are 7 columns with 116515 NaNs\n",
      "There are 6 columns with 133324 NaNs\n",
      "There are 2 columns with 158064 NaNs\n"
     ]
    }
   ],
   "source": [
    "# Look at columns with like numbers of missing NaNs.\n",
    "# If 2 columns or more have the same number of NaNs,\n",
    "# there is a high probability that the data points with NaNs\n",
    "# are highly corrilated or exactly the same in those columns.\n",
    "def nans_in_columns(missing_data):\n",
    "    missing_data_groups = missing_data.groupby(missing_data)\n",
    "    for group in missing_data_groups:\n",
    "            if len(group[1]) > 1:\n",
    "                print('There are {} columns with {} NaNs'.format(len(group[1]), group[0]))\n",
    "\n",
    "nans_in_columns(df_az.isnull().sum())"
   ]
  },
  {
   "cell_type": "code",
   "execution_count": 14,
   "metadata": {},
   "outputs": [
    {
     "data": {
      "text/plain": [
       "array(['PLZ8_ANTG1', 'PLZ8_ANTG2', 'PLZ8_ANTG3', 'PLZ8_ANTG4',\n",
       "       'PLZ8_BAUMAX', 'PLZ8_HHZ', 'PLZ8_GBZ'], dtype=object)"
      ]
     },
     "execution_count": 14,
     "metadata": {},
     "output_type": "execute_result"
    }
   ],
   "source": [
    "# Look more closely at the 7 columns with 116,515 NaNs in them.\n",
    "# PLZ8 are macro-cell features describing house type in the region.\n",
    "# If individuals live in a region without this type of information,\n",
    "# large numbers of individuals will be missing values in all seven columns.\n",
    "missing_data_columns = df_az.isnull().sum()\n",
    "missing_data_columns = missing_data_columns[missing_data_columns == 116515]\n",
    "missing_data_columns_PLZ8 = missing_data_columns.index.values\n",
    "missing_data_columns_PLZ8"
   ]
  },
  {
   "cell_type": "code",
   "execution_count": 15,
   "metadata": {},
   "outputs": [
    {
     "data": {
      "text/plain": [
       "array(['KBA05_ANTG1', 'KBA05_ANTG2', 'KBA05_ANTG3', 'KBA05_ANTG4',\n",
       "       'KBA05_GBZ', 'MOBI_REGIO'], dtype=object)"
      ]
     },
     "execution_count": 15,
     "metadata": {},
     "output_type": "execute_result"
    }
   ],
   "source": [
    "# Look more closely at the 6 columns with 133,324 NaNs in them.\n",
    "# KBA05 are micro-cell features describing house type in microcell.\n",
    "# If individuals live in a micro-cell without this type of information,\n",
    "# large numbers of individuals will be missing values in all 6 columns.\n",
    "# Note that MOBI_REGIO (Movement patterns, regional feature) is also closely corrilated with KBA05\n",
    "missing_data_columns = df_az.isnull().sum()\n",
    "missing_data_columns = missing_data_columns[missing_data_columns == 133324]\n",
    "missing_data_columns_KBA05 = missing_data_columns.index.values\n",
    "missing_data_columns_KBA05"
   ]
  },
  {
   "cell_type": "code",
   "execution_count": 16,
   "metadata": {},
   "outputs": [
    {
     "name": "stdout",
     "output_type": "stream",
     "text": [
      "There are 7 PLZ8 rows, 6 KBA05 rows\n",
      "There are 748448 rows missing 0 many NaNs\n",
      "There are 26258 rows missing 6 many NaNs\n",
      "There are 9449 rows missing 7 many NaNs\n",
      "There are 107066 rows missing 13 many NaNs\n"
     ]
    }
   ],
   "source": [
    "# See if individuals that are missing data in the PLZ8 columns are also missing values in the\n",
    "# KBA05 columns and visa versa?\n",
    "s = df_az[list(missing_data_columns_PLZ8) + list(missing_data_columns_KBA05)].isnull().sum(axis=1)\n",
    "groups = s.groupby(s)\n",
    "print('There are 7 PLZ8 rows, 6 KBA05 rows')\n",
    "for group in groups:\n",
    "    print('There are {} rows missing {} many NaNs'.format(len(group[1]), group[0]))"
   ]
  },
  {
   "cell_type": "code",
   "execution_count": 17,
   "metadata": {},
   "outputs": [
    {
     "name": "stdout",
     "output_type": "stream",
     "text": [
      "28% of the missing data is explained by this relationship\n"
     ]
    }
   ],
   "source": [
    "# How much of the missing data does this pattern of 13 columns with 107,066 rows of missing data explain?\n",
    "print('{}% of the missing data is explained by this relationship'.format(int(round(107066 * 13 * 100/df_az.isnull().sum().sum()))))"
   ]
  },
  {
   "cell_type": "markdown",
   "metadata": {},
   "source": [
    "#### Discussion 1.1.2: Assess Missing Data in Each Column\n",
    "\n",
    "I first plotted a histogram that shows the distribution of the number of NANs in columns. It shows that a few columns have a relatively large amount of NaNs compared to the majority of columns. I dropped all columns with greater than 200K NaNs. The columns dropped are 'AGER_TYP', 'GEBURTSJAHR', 'TITEL_KZ', 'ALTER_HH', 'KK_KUNDENTYP' and 'KBA05_BAUMAX'.\n",
    "\n",
    "I looked at columns that have the same amount of NaNs in them and see that there are quite a few of them. It seems that many columns are highly correlated with respect to having the same data points with NaNs. Looking more closely at the 7 columns with 116,515 NaNs and the 6 columns with 133,324 NaNs we come to some interesting conclusions.\n",
    "1. There are 107,066 rows with NaNs in all 13 columns.\n",
    "2. The first 7 columns are macro-cell features describing house types in the region (prefix 'PLZ8').\n",
    "3. The second 5 columns are micro-cell features describing house type in the microcell (prefix 'KBA05'). And the last column 'MOBI_REGIO' (Movement patterns, regional feature), has the exact same rows with missing values as 'KBA05' columns.\n",
    "4. 28% of the missing data is explained by not having data on housing types in particular regions and microcells."
   ]
  },
  {
   "cell_type": "markdown",
   "metadata": {},
   "source": [
    "#### Step 1.1.3: Assess Missing Data in Each Row\n",
    "\n",
    "Now, you'll perform a similar assessment for the rows of the dataset. How much data is missing in each row? As with the columns, you should see some groups of points that have a very different numbers of missing values. Divide the data into two subsets: one for data points that are above some threshold for missing values, and a second subset for points below that threshold.\n",
    "\n",
    "In order to know what to do with the outlier rows, we should see if the distribution of data values on columns that are not missing data (or are missing very little data) are similar or different between the two groups. Select at least five of these columns and compare the distribution of values.\n",
    "- You can use seaborn's [`countplot()`](https://seaborn.pydata.org/generated/seaborn.countplot.html) function to create a bar chart of code frequencies and matplotlib's [`subplot()`](https://matplotlib.org/api/_as_gen/matplotlib.pyplot.subplot.html) function to put bar charts for the two subplots side by side.\n",
    "- To reduce repeated code, you might want to write a function that can perform this comparison, taking as one of its arguments a column to be compared.\n",
    "\n",
    "Depending on what you observe in your comparison, this will have implications on how you approach your conclusions later in the analysis. If the distributions of non-missing features look similar between the data with many missing values and the data with few or no missing values, then we could argue that simply dropping those points from the analysis won't present a major issue. On the other hand, if the data with many missing values looks very different from the data with few or no missing values, then we should make a note on those data as special. Make sure you report your observations in the discussion section. **Either way, you should continue your analysis below using just the subset of the data with few or no missing values.**"
   ]
  },
  {
   "cell_type": "code",
   "execution_count": 18,
   "metadata": {},
   "outputs": [
    {
     "data": {
      "image/png": "[encoded data removed]",
      "text/plain": [
       "<matplotlib.figure.Figure at 0x7f18bf1ad1d0>"
      ]
     },
     "metadata": {},
     "output_type": "display_data"
    }
   ],
   "source": [
    "# How much data is missing in each row of the dataset?\n",
    "missing_data_row = df_az.isnull().sum(axis=1)\n",
    "plt.hist(missing_data_row, 50)\n",
    "plt.xlabel('Missing Values')\n",
    "plt.ylabel('Number of Rows')\n",
    "plt.title('Histogram of Missing Values in Rows');"
   ]
  },
  {
   "cell_type": "code",
   "execution_count": 19,
   "metadata": {},
   "outputs": [
    {
     "data": {
      "image/png": "[encoded data removed]",
      "text/plain": [
       "<matplotlib.figure.Figure at 0x7f18bf055048>"
      ]
     },
     "metadata": {},
     "output_type": "display_data"
    }
   ],
   "source": [
    "# Without 0\n",
    "missing_data_row = df_az.isnull().sum(axis=1)\n",
    "plt.hist(missing_data_row, 50, (1,50))\n",
    "plt.xlabel('Missing Values')\n",
    "plt.ylabel('Number of Rows')\n",
    "plt.title('Histogram of Missing Values in Rows');"
   ]
  },
  {
   "cell_type": "code",
   "execution_count": 20,
   "metadata": {},
   "outputs": [
    {
     "data": {
      "text/plain": [
       "107066"
      ]
     },
     "execution_count": 20,
     "metadata": {},
     "output_type": "execute_result"
    }
   ],
   "source": [
    "# Let's keep track of individuals that are missing both regional and microcell data.\n",
    "# They may make a nice cluster\n",
    "missing_regional_index = s[s.values == 13].index.values\n",
    "len(missing_regional_index)"
   ]
  },
  {
   "cell_type": "code",
   "execution_count": 21,
   "metadata": {},
   "outputs": [],
   "source": [
    "# Try dropping rows with missing regional and microcell information\n",
    "df_az__regional_info_False = df_az.iloc[missing_regional_index]\n",
    "df_az__regional_info_True = df_az.drop(missing_regional_index, axis=0)"
   ]
  },
  {
   "cell_type": "code",
   "execution_count": 22,
   "metadata": {},
   "outputs": [
    {
     "data": {
      "image/png": "[encoded data removed]",
      "text/plain": [
       "<matplotlib.figure.Figure at 0x7f18bf03ee10>"
      ]
     },
     "metadata": {},
     "output_type": "display_data"
    }
   ],
   "source": [
    "# Without 0\n",
    "missing_data_row = df_az__regional_info_True.isnull().sum(axis=1)\n",
    "plt.hist(missing_data_row, 25, (1,25))\n",
    "plt.xlabel('Missing Values')\n",
    "plt.ylabel('Number of Rows')\n",
    "plt.title('Histogram of Missing Values in Rows');"
   ]
  },
  {
   "cell_type": "code",
   "execution_count": 23,
   "metadata": {},
   "outputs": [
    {
     "data": {
      "image/png": "[encoded data removed]",
      "text/plain": [
       "<matplotlib.figure.Figure at 0x7f18bf069550>"
      ]
     },
     "metadata": {},
     "output_type": "display_data"
    },
    {
     "data": {
      "image/png": "[encoded data removed]",
      "text/plain": [
       "<matplotlib.figure.Figure at 0x7f18a1618128>"
      ]
     },
     "metadata": {},
     "output_type": "display_data"
    },
    {
     "data": {
      "image/png": "[encoded data removed]",
      "text/plain": [
       "<matplotlib.figure.Figure at 0x7f18a15e9ef0>"
      ]
     },
     "metadata": {},
     "output_type": "display_data"
    },
    {
     "data": {
      "image/png": "[encoded data removed]",
      "text/plain": [
       "<matplotlib.figure.Figure at 0x7f18a14bc400>"
      ]
     },
     "metadata": {},
     "output_type": "display_data"
    },
    {
     "data": {
      "image/png": "[encoded data removed]",
      "text/plain": [
       "<matplotlib.figure.Figure at 0x7f18a1458898>"
      ]
     },
     "metadata": {},
     "output_type": "display_data"
    }
   ],
   "source": [
    "# Compare the distribution of values for at least five columns where there are\n",
    "# no or few missing values, between the two subsets.\n",
    "def compare_dist(label, low, high, column):\n",
    "    plt.figure(label)\n",
    "    \n",
    "    plt.subplot(121)\n",
    "    sns.countplot(low[column])\n",
    "    if label == 0:\n",
    "        plt.title('Rows with Regional Info')\n",
    "    \n",
    "    plt.subplot(122)\n",
    "    sns.countplot(high[column])\n",
    "    if label == 0:\n",
    "        plt.title('Rows without Regional Info')\n",
    "    \n",
    "    plt.subplots_adjust(left=0.0, wspace=1.8, top=0.5)\n",
    "\n",
    "columns = ['ANREDE_KZ', 'FINANZ_MINIMALIST', 'FINANZ_SPARER', 'FINANZ_VORSORGER', 'FINANZ_ANLEGER']\n",
    "for label, column in enumerate(columns):\n",
    "    compare_dist(label, df_az__regional_info_True, df_az__regional_info_False, column)"
   ]
  },
  {
   "cell_type": "code",
   "execution_count": 24,
   "metadata": {},
   "outputs": [],
   "source": [
    "# Drop the rows that are missing regional and micro-cell housing data from df_az\n",
    "df_az = df_az.drop(missing_regional_index, axis=0)"
   ]
  },
  {
   "cell_type": "markdown",
   "metadata": {},
   "source": [
    "#### Discussion 1.1.3: Assess Missing Data in Each Row\n",
    "  \n",
    "Looking at the histogram of missing values in rows, there are a number of rows with a large amount of missing values that are out of character from the rest of the data (>30 NaNs). In the last section, I looked at columns with very similar numbers of NaNs in them, a pattern emerged that regional and micro-cell housing information was missing, resulting in 28% of the missing data explained. I drop all rows that are missing values in all regional and micro-cell housing columns and relook at the histogram of missing values. All rows with greater than 30 NaNs are now gone and the distribution has a reasonable shape without outlayers. I then compare the distributions of values in 5 attributes to see if the dropped data is similar to the leftover data. The plots above show that in 4 out of the 5 attributes, one value is overwhelmingly favored in the dropped data compared to the undropped data. I have kept the indexes of the rows dropped in \"missing_regional_index\". I will continue on with the undropped rows but plan on using the dropped rows as a seperate cluster when I do my analysis."
   ]
  },
  {
   "cell_type": "markdown",
   "metadata": {},
   "source": [
    "### Step 1.2: Select and Re-Encode Features\n",
    "\n",
    "Checking for missing data isn't the only way in which you can prepare a dataset for analysis. Since the unsupervised learning techniques to be used will only work on data that is encoded numerically, you need to make a few encoding changes or additional assumptions to be able to make progress. In addition, while almost all of the values in the dataset are encoded using numbers, not all of them represent numeric values. Check the third column of the feature summary (`feat_info`) for a summary of types of measurement.\n",
    "- For numeric and interval data, these features can be kept without changes.\n",
    "- Most of the variables in the dataset are ordinal in nature. While ordinal values may technically be non-linear in spacing, make the simplifying assumption that the ordinal variables can be treated as being interval in nature (that is, kept without any changes).\n",
    "- Special handling may be necessary for the remaining two variable types: categorical, and 'mixed'.\n",
    "\n",
    "In the first two parts of this sub-step, you will perform an investigation of the categorical and mixed-type features and make a decision on each of them, whether you will keep, drop, or re-encode each. Then, in the last part, you will create a new data frame with only the selected and engineered columns.\n",
    "\n",
    "Data wrangling is often the trickiest part of the data analysis process, and there's a lot of it to be done here. But stick with it: once you're done with this step, you'll be ready to get to the machine learning parts of the project!"
   ]
  },
  {
   "cell_type": "code",
   "execution_count": 25,
   "metadata": {},
   "outputs": [],
   "source": [
    "# Drop attributes not in df_az\n",
    "df_info = df_info.loc[df_info['attribute'].isin(df_az.columns)]"
   ]
  },
  {
   "cell_type": "code",
   "execution_count": 26,
   "metadata": {},
   "outputs": [
    {
     "data": {
      "text/plain": [
       "ordinal        49\n",
       "categorical    18\n",
       "numeric         6\n",
       "mixed           6\n",
       "Name: type, dtype: int64"
      ]
     },
     "execution_count": 26,
     "metadata": {},
     "output_type": "execute_result"
    }
   ],
   "source": [
    "# How many features are there of each data type?\n",
    "df_info['type'].value_counts()"
   ]
  },
  {
   "cell_type": "markdown",
   "metadata": {},
   "source": [
    "#### Step 1.2.1: Re-Encode Categorical Features\n",
    "\n",
    "For categorical data, you would ordinarily need to encode the levels as dummy variables. Depending on the number of categories, perform one of the following:\n",
    "- For binary (two-level) categoricals that take numeric values, you can keep them without needing to do anything.\n",
    "- There is one binary variable that takes on non-numeric values. For this one, you need to re-encode the values as numbers or create a dummy variable.\n",
    "- For multi-level categoricals (three or more values), you can choose to encode the values using multiple dummy variables (e.g. via [OneHotEncoder](http://scikit-learn.org/stable/modules/generated/sklearn.preprocessing.OneHotEncoder.html)), or (to keep things straightforward) just drop them from the analysis. As always, document your choices in the Discussion section."
   ]
  },
  {
   "cell_type": "code",
   "execution_count": 27,
   "metadata": {},
   "outputs": [],
   "source": [
    "# Assess categorical variables: which are binary, which are multi-level, and\n",
    "# which one needs to be re-encoded?"
   ]
  },
  {
   "cell_type": "code",
   "execution_count": 28,
   "metadata": {},
   "outputs": [
    {
     "name": "stdout",
     "output_type": "stream",
     "text": [
      "Number of categorical attributes:  18\n"
     ]
    },
    {
     "data": {
      "text/plain": [
       "2     5\n",
       "6     3\n",
       "5     2\n",
       "44    1\n",
       "12    1\n",
       "11    1\n",
       "10    1\n",
       "9     1\n",
       "7     1\n",
       "4     1\n",
       "3     1\n",
       "Name: value_counts, dtype: int64"
      ]
     },
     "execution_count": 28,
     "metadata": {},
     "output_type": "execute_result"
    }
   ],
   "source": [
    "# Look only at categorical attributes\n",
    "cat_info = df_info.loc[df_info['type'] == 'categorical'].copy()\n",
    "\n",
    "# Add column with value counts for each attribute\n",
    "cat_info = cat_info.assign(value_counts=[len(df_az[attribute].value_counts()) for attribute in cat_info['attribute']])\n",
    "\n",
    "# Look at number of attributes with x amount of categories\n",
    "print('Number of categorical attributes: ', len(cat_info))\n",
    "cat_info['value_counts'].value_counts()"
   ]
  },
  {
   "cell_type": "code",
   "execution_count": 29,
   "metadata": {},
   "outputs": [],
   "source": [
    "# Re-encode categorical variable(s) to be kept in the analysis."
   ]
  },
  {
   "cell_type": "code",
   "execution_count": 30,
   "metadata": {},
   "outputs": [
    {
     "name": "stdout",
     "output_type": "stream",
     "text": [
      "OST_WEST_KZ object\n"
     ]
    }
   ],
   "source": [
    "# Look only at binary attributes\n",
    "cat_info_2 = cat_info.loc[cat_info['value_counts'] == 2].copy()\n",
    "\n",
    "# Find binary attribute that is not an int or float \n",
    "for attribute in cat_info_2['attribute']:\n",
    "    dtype = df_az[attribute].dtype\n",
    "    if dtype not in [int, float]:\n",
    "        print(attribute, dtype)"
   ]
  },
  {
   "cell_type": "code",
   "execution_count": 31,
   "metadata": {
    "scrolled": true
   },
   "outputs": [],
   "source": [
    "# Change to numerical categories\n",
    "df_az.loc[:, 'OST_WEST_KZ'].replace(['W', 'O'], [0, 1], inplace=True)"
   ]
  },
  {
   "cell_type": "code",
   "execution_count": 32,
   "metadata": {},
   "outputs": [
    {
     "data": {
      "text/plain": [
       "(784155, 194)"
      ]
     },
     "execution_count": 32,
     "metadata": {},
     "output_type": "execute_result"
    }
   ],
   "source": [
    "# Look at non binary categorical count values\n",
    "cat_info_rest = cat_info.loc[cat_info['value_counts'] != 2].copy()\n",
    "\n",
    "# One Hot encode the rest of the categorical attributes and drop original attributes\n",
    "def one_hot_encode(df, columns):\n",
    "    '''\n",
    "    One hot encode columns in df and drop columns.\n",
    "    columns is a list\n",
    "    '''\n",
    "    dfOneHot = pd.DataFrame()\n",
    "    for column in columns:\n",
    "        df[column] = pd.Categorical(df[column])\n",
    "        dfDummies = pd.get_dummies(df[column], prefix = column)\n",
    "        dfOneHot = pd.concat([dfOneHot, dfDummies], axis=1)\n",
    "    df = pd.concat([df, dfOneHot], axis=1)\n",
    "    df.drop(columns, axis=1, inplace=True)\n",
    "    return df\n",
    "\n",
    "to_one_hot_encode = cat_info_rest['attribute'].values\n",
    "df_az = one_hot_encode(df_az, to_one_hot_encode)\n",
    "\n",
    "df_az.shape"
   ]
  },
  {
   "cell_type": "code",
   "execution_count": 33,
   "metadata": {},
   "outputs": [
    {
     "name": "stdout",
     "output_type": "stream",
     "text": [
      "['CJT_GESAMTTYP' 'FINANZTYP' 'GFK_URLAUBERTYP' 'LP_FAMILIE_FEIN'\n",
      " 'LP_FAMILIE_GROB' 'LP_STATUS_FEIN' 'LP_STATUS_GROB' 'NATIONALITAET_KZ'\n",
      " 'SHOPPER_TYP' 'ZABEOTYP' 'GEBAEUDETYP' 'CAMEO_DEUG_2015' 'CAMEO_DEU_2015']\n"
     ]
    }
   ],
   "source": [
    "# print out attributes to one hot encode for later use in cleaning function\n",
    "print(to_one_hot_encode)"
   ]
  },
  {
   "cell_type": "markdown",
   "metadata": {},
   "source": [
    "#### Discussion 1.2.1: Re-Encode Categorical Features\n",
    "\n",
    "There are 18 categorical attributes with 5 being binary. One binary was not numerical, so I changed that to numerical. I leave the binary numerical attributes as is for analysis. If categorical attributes have more than 2 categories, it does not make sense to treat them as an interval since they don't have inherent order. For the rest of the catigorical attributes, I one hot encoded them and dropped the original attributes."
   ]
  },
  {
   "cell_type": "markdown",
   "metadata": {},
   "source": [
    "#### Step 1.2.2: Engineer Mixed-Type Features\n",
    "\n",
    "There are a handful of features that are marked as \"mixed\" in the feature summary that require special treatment in order to be included in the analysis. There are two in particular that deserve attention; the handling of the rest are up to your own choices:\n",
    "- \"PRAEGENDE_JUGENDJAHRE\" combines information on three dimensions: generation by decade, movement (mainstream vs. avantgarde), and nation (east vs. west). While there aren't enough levels to disentangle east from west, you should create two new variables to capture the other two dimensions: an interval-type variable for decade, and a binary variable for movement.\n",
    "- \"CAMEO_INTL_2015\" combines information on two axes: wealth and life stage. Break up the two-digit codes by their 'tens'-place and 'ones'-place digits into two new ordinal variables (which, for the purposes of this project, is equivalent to just treating them as their raw numeric values).\n",
    "- If you decide to keep or engineer new features around the other mixed-type features, make sure you note your steps in the Discussion section.\n",
    "\n",
    "Be sure to check `Data_Dictionary.md` for the details needed to finish these tasks."
   ]
  },
  {
   "cell_type": "code",
   "execution_count": 34,
   "metadata": {},
   "outputs": [
    {
     "data": {
      "text/html": [
       "<div>\n",
       "<style>\n",
       "    .dataframe thead tr:only-child th {\n",
       "        text-align: right;\n",
       "    }\n",
       "\n",
       "    .dataframe thead th {\n",
       "        text-align: left;\n",
       "    }\n",
       "\n",
       "    .dataframe tbody tr th {\n",
       "        vertical-align: top;\n",
       "    }\n",
       "</style>\n",
       "<table border=\"1\" class=\"dataframe\">\n",
       "  <thead>\n",
       "    <tr style=\"text-align: right;\">\n",
       "      <th></th>\n",
       "      <th>attribute</th>\n",
       "      <th>information_level</th>\n",
       "      <th>type</th>\n",
       "      <th>missing_or_unknown</th>\n",
       "    </tr>\n",
       "  </thead>\n",
       "  <tbody>\n",
       "    <tr>\n",
       "      <th>15</th>\n",
       "      <td>LP_LEBENSPHASE_FEIN</td>\n",
       "      <td>person</td>\n",
       "      <td>mixed</td>\n",
       "      <td>[0]</td>\n",
       "    </tr>\n",
       "    <tr>\n",
       "      <th>16</th>\n",
       "      <td>LP_LEBENSPHASE_GROB</td>\n",
       "      <td>person</td>\n",
       "      <td>mixed</td>\n",
       "      <td>[0]</td>\n",
       "    </tr>\n",
       "    <tr>\n",
       "      <th>22</th>\n",
       "      <td>PRAEGENDE_JUGENDJAHRE</td>\n",
       "      <td>person</td>\n",
       "      <td>mixed</td>\n",
       "      <td>[-1,0]</td>\n",
       "    </tr>\n",
       "    <tr>\n",
       "      <th>56</th>\n",
       "      <td>WOHNLAGE</td>\n",
       "      <td>building</td>\n",
       "      <td>mixed</td>\n",
       "      <td>[-1]</td>\n",
       "    </tr>\n",
       "    <tr>\n",
       "      <th>59</th>\n",
       "      <td>CAMEO_INTL_2015</td>\n",
       "      <td>microcell_rr4</td>\n",
       "      <td>mixed</td>\n",
       "      <td>[-1,XX]</td>\n",
       "    </tr>\n",
       "    <tr>\n",
       "      <th>79</th>\n",
       "      <td>PLZ8_BAUMAX</td>\n",
       "      <td>macrocell_plz8</td>\n",
       "      <td>mixed</td>\n",
       "      <td>[-1,0]</td>\n",
       "    </tr>\n",
       "  </tbody>\n",
       "</table>\n",
       "</div>"
      ],
      "text/plain": [
       "                attribute information_level   type missing_or_unknown\n",
       "15    LP_LEBENSPHASE_FEIN            person  mixed                [0]\n",
       "16    LP_LEBENSPHASE_GROB            person  mixed                [0]\n",
       "22  PRAEGENDE_JUGENDJAHRE            person  mixed             [-1,0]\n",
       "56               WOHNLAGE          building  mixed               [-1]\n",
       "59        CAMEO_INTL_2015     microcell_rr4  mixed            [-1,XX]\n",
       "79            PLZ8_BAUMAX    macrocell_plz8  mixed             [-1,0]"
      ]
     },
     "execution_count": 34,
     "metadata": {},
     "output_type": "execute_result"
    }
   ],
   "source": [
    "# Decide what to do with mixed type features\n",
    "mixed_info = df_info.loc[df_info['type'] == 'mixed'].copy()\n",
    "mixed_info"
   ]
  },
  {
   "cell_type": "code",
   "execution_count": 35,
   "metadata": {},
   "outputs": [
    {
     "data": {
      "text/plain": [
       "1    14.0\n",
       "2    15.0\n",
       "3     8.0\n",
       "4     8.0\n",
       "5     3.0\n",
       "Name: PRAEGENDE_JUGENDJAHRE, dtype: float64"
      ]
     },
     "execution_count": 35,
     "metadata": {},
     "output_type": "execute_result"
    }
   ],
   "source": [
    "# Investigate \"PRAEGENDE_JUGENDJAHRE\" and engineer two new variables.\n",
    "df_az['PRAEGENDE_JUGENDJAHRE'].head()"
   ]
  },
  {
   "cell_type": "code",
   "execution_count": 36,
   "metadata": {},
   "outputs": [],
   "source": [
    "# Make dictionary for PRAEGENDE_JUGENDJAHRE attribute\n",
    "# key: (decade, movement)\n",
    "pj_dict = {1.0: (1, 1), 2.0: (1, 2), 3.0: (2, 1),\n",
    "           4.0: (2, 2), 5.0: (3, 1), 6.0: (3, 2),\n",
    "           7.0: (3, 2), 8.0: (4, 1), 9.0: (4, 2),\n",
    "           10.0: (5, 1), 11.0: (5, 2), 12.0: (5, 1),\n",
    "           13.0: (5, 2), 14.0: (6, 1), 15.0: (6, 2)}\n",
    "\n",
    "# Add columns for 2 new attributes and drop PRAEGENDE_JUGENDJAHRE\n",
    "def pj_funct(x, pj_dict, index):\n",
    "    if pd.isnull(x):\n",
    "        return x\n",
    "    else:\n",
    "        return pj_dict[x][index]\n",
    "        \n",
    "df_az['PRAEGENDE_JUGENDJAHRE_decade'] = df_az['PRAEGENDE_JUGENDJAHRE'].apply(lambda x: pj_funct(x, pj_dict, 0))\n",
    "df_az['PRAEGENDE_JUGENDJAHRE_movement'] = df_az['PRAEGENDE_JUGENDJAHRE'].apply(lambda x: pj_funct(x, pj_dict, 1))\n",
    "df_az.drop('PRAEGENDE_JUGENDJAHRE', axis=1, inplace=True)"
   ]
  },
  {
   "cell_type": "code",
   "execution_count": 37,
   "metadata": {},
   "outputs": [
    {
     "data": {
      "text/plain": [
       "1    51\n",
       "2    24\n",
       "3    12\n",
       "4    43\n",
       "5    54\n",
       "Name: CAMEO_INTL_2015, dtype: object"
      ]
     },
     "execution_count": 37,
     "metadata": {},
     "output_type": "execute_result"
    }
   ],
   "source": [
    "# Investigate \"CAMEO_INTL_2015\" and engineer two new variables.\n",
    "df_az['CAMEO_INTL_2015'].head()"
   ]
  },
  {
   "cell_type": "code",
   "execution_count": 38,
   "metadata": {},
   "outputs": [],
   "source": [
    "# Add columns for 2 new attributes and drop CAMEO_INTL_2015\n",
    "def ci_funct(x, index):\n",
    "    if pd.isnull(x):\n",
    "        return x\n",
    "    else:\n",
    "        return int(x[index])\n",
    "\n",
    "df_az['CAMEO_INTL_2015_wealth'] = df_az['CAMEO_INTL_2015'].apply(lambda x: ci_funct(x, 0))\n",
    "df_az['CAMEO_INTL_2015_lifestage'] = df_az['CAMEO_INTL_2015'].apply(lambda x: ci_funct(x, 1))\n",
    "df_az.drop('CAMEO_INTL_2015', axis=1, inplace=True)"
   ]
  },
  {
   "cell_type": "code",
   "execution_count": 39,
   "metadata": {},
   "outputs": [],
   "source": [
    "# Drop LP_LEBENSPHASE_FEIN, LP_LEBENSPHASE_GROB, WOHNLAGE, PLZ8_BAUMAX due to a complicated entaglement of dimensions\n",
    "df_az.drop(['LP_LEBENSPHASE_FEIN', 'LP_LEBENSPHASE_GROB', 'WOHNLAGE', 'PLZ8_BAUMAX'], axis=1, inplace=True)"
   ]
  },
  {
   "cell_type": "markdown",
   "metadata": {},
   "source": [
    "#### Discussion 1.2.2: Engineer Mixed-Type Features\n",
    "\n",
    "There are 6 attributes that are mixed. Each attribute had seperate issues so I will go through them one by one. \n",
    "1. \"PRAEGENDE_JUGENDJAHRE\" : Had 3 dimensions in one (decade, movement, nation). The nation dimension had a complicated entanglement so I ignored it. I put each remaining dimension in a seperate attribute. \"decade\" is ordinal so I left it as is. \"movement\" is categorical binary so I left it as is. I dropped the original.\n",
    "2. \"CAMEO_INTL_2015\" : Had 2 dimensions that were both ordinal (Wealth and Life Stage) so I added 2 attributes and dropped the original.\n",
    "3. \"LP_LEBENSPHASE_FEIN\" : Dropped due to complicated entaglement of the dimensions (Life stage and income level, fine scale)\n",
    "4. \"LP_LEBENSPHASE_GROB\" : Dropped due to complicated entaglement of the dimensions (Life stage and income level, rough scale)\n",
    "5. \"WOHNLAGE\" : Had 2 dimensions (Neighborhood quality and rural flag) that were hard to untagle, so dropped it.\n",
    "6. \"PLZ8_BAUMAX\" : Has 2 dimensions (building type family and Business) that are hard to untangle, so dropped it.\n"
   ]
  },
  {
   "cell_type": "markdown",
   "metadata": {},
   "source": [
    "#### Step 1.2.3: Complete Feature Selection\n",
    "\n",
    "In order to finish this step up, you need to make sure that your data frame now only has the columns that you want to keep. To summarize, the dataframe should consist of the following:\n",
    "- All numeric, interval, and ordinal type columns from the original dataset.\n",
    "- Binary categorical features (all numerically-encoded).\n",
    "- Engineered features from other multi-level categorical features and mixed features.\n",
    "\n",
    "Make sure that for any new columns that you have engineered, that you've excluded the original columns from the final dataset. Otherwise, their values will interfere with the analysis later on the project. For example, you should not keep \"PRAEGENDE_JUGENDJAHRE\", since its values won't be useful for the algorithm: only the values derived from it in the engineered features you created should be retained. As a reminder, your data should only be from **the subset with few or no missing values**."
   ]
  },
  {
   "cell_type": "code",
   "execution_count": 119,
   "metadata": {},
   "outputs": [
    {
     "data": {
      "text/plain": [
       "(784155, 193)"
      ]
     },
     "execution_count": 119,
     "metadata": {},
     "output_type": "execute_result"
    }
   ],
   "source": [
    "# Do whatever you need to in order to ensure that the dataframe only contains\n",
    "# the columns that should be passed to the algorithm functions.\n",
    "\n",
    "# Make sure all attributes are ints or floats \n",
    "for attribute in df_az.columns.values:\n",
    "    dtype = df_az[attribute].dtype\n",
    "    if dtype not in [int, float, np.uint8]:\n",
    "        print(attribute, dtype)\n",
    "\n",
    "df_az.shape"
   ]
  },
  {
   "cell_type": "markdown",
   "metadata": {},
   "source": [
    "### Step 1.3: Create a Cleaning Function\n",
    "\n",
    "Even though you've finished cleaning up the general population demographics data, it's important to look ahead to the future and realize that you'll need to perform the same cleaning steps on the customer demographics data. In this substep, complete the function below to execute the main feature selection, encoding, and re-engineering steps you performed above. Then, when it comes to looking at the customer data in Step 3, you can just run this function on that DataFrame to get the trimmed dataset in a single step."
   ]
  },
  {
   "cell_type": "code",
   "execution_count": 40,
   "metadata": {},
   "outputs": [],
   "source": [
    "# Functions needed in clean_data function\n",
    "\n",
    "# Note the one_hot_encoding requires a dictionary from the \n",
    "# General df to encode the categories for the Customer df.\n",
    "# If this is not done the categories do not line up, \n",
    "# i.e. the Customer df will have less columns than the General df.\n",
    "def one_hot_encode(df, columns, categories = None):\n",
    "    '''\n",
    "    Return one hot encode columns in df.\n",
    "    If General dataframe, return categories dictionary to use with Customers dataframe.\n",
    "    If Customers dataframe, use categories made by the General dataframe to one hot encode columns.\n",
    "    \n",
    "    INPUT: df:\n",
    "           columns: list\n",
    "           categories: dictionary with training columns as keys and\n",
    "                       list of training categories as values.\n",
    "                       Or None to make the dictionary.\n",
    "    OUTPUT: df: one hot encoded columns and drop orginal columns\n",
    "            categories: dictionary with training columns as keys and\n",
    "                        list of training categories as values.\n",
    "    '''\n",
    "    dfOneHot = pd.DataFrame()\n",
    "    if categories:\n",
    "        for column in columns:\n",
    "            df[column] = pd.Categorical(df[column], categories=categories[column])\n",
    "            dfDummies = pd.get_dummies(df[column], prefix = column)\n",
    "            dfOneHot = pd.concat([dfOneHot, dfDummies], axis=1)\n",
    "    else:\n",
    "        categories = dict()\n",
    "        for column in columns:\n",
    "            df[column] = pd.Categorical(df[column])\n",
    "            categories[column] = df[column].cat.categories\n",
    "            dfDummies = pd.get_dummies(df[column], prefix = column)\n",
    "            dfOneHot = pd.concat([dfOneHot, dfDummies], axis=1)\n",
    "    df = pd.concat([df, dfOneHot], axis=1)\n",
    "    df.drop(columns, axis=1, inplace=True)\n",
    "    return df, categories\n",
    "\n",
    "def pj_funct(x, pj_dict, index):\n",
    "    '''\n",
    "    Function used for 'PRAEGENDE_JUGENDJAHRE' attribute\n",
    "    '''\n",
    "    if pd.isnull(x):\n",
    "        return x\n",
    "    else:\n",
    "        return pj_dict[x][index]\n",
    "    \n",
    "def ci_funct(x, index):\n",
    "    '''\n",
    "    Function used for 'CAMEO_INTL_2015' attribute\n",
    "    '''\n",
    "    if pd.isnull(x):\n",
    "        return x\n",
    "    else:\n",
    "        return int(x[index])\n",
    "    \n",
    "def clean_data(df, df_info, categories=None):\n",
    "    \"\"\"\n",
    "    Perform feature trimming, re-encoding, and engineering for demographics\n",
    "    data\n",
    "    \n",
    "    INPUT: df to be cleaned, info df, and \n",
    "           categories dictionary if cleaning customer df. \n",
    "    OUTPUT: Cleaned df, categories dictionary\n",
    "    \"\"\"\n",
    "\n",
    "    # Identify missing or unknown data values and convert them to NaNs.\n",
    "    for i, row in df_info.iterrows():\n",
    "            try:\n",
    "                df[row['attribute']].replace(ast.literal_eval(row['missing_or_unknown']), np.nan, inplace=True)\n",
    "            except:\n",
    "                df[row['attribute']].replace(['-1', 'X', 'XX'], np.nan, inplace=True)\n",
    "    \n",
    "    \n",
    "    \n",
    "    # Drop rows if they are missing on regional and micro-cell house type info\n",
    "    # Save to use for future analysis\n",
    "    regional_micro_columns = ['KBA05_ANTG1', 'KBA05_ANTG2', 'KBA05_ANTG3', 'KBA05_ANTG4',\n",
    "       'KBA05_GBZ', 'MOBI_REGIO', 'PLZ8_ANTG1', 'PLZ8_ANTG2', 'PLZ8_ANTG3', 'PLZ8_ANTG4',\n",
    "       'PLZ8_BAUMAX', 'PLZ8_HHZ', 'PLZ8_GBZ']\n",
    "    s = df[regional_micro_columns].isnull().sum(axis=1)\n",
    "    rows_to_drop = s[s.values == 13].index.values\n",
    "    df.drop(rows_to_drop, axis=0, inplace=True)\n",
    "    \n",
    "    # Columns to drop based on a threshold of 200000 NaN values in general population df.\n",
    "    # Include columns 'LP_LEBENSPHASE_FEIN' and 'LP_LEBENSPHASE_GROB' due to a complicated entaglement of dimensions\n",
    "    columns_to_drop = ['AGER_TYP', 'GEBURTSJAHR', 'TITEL_KZ', 'ALTER_HH', 'KK_KUNDENTYP',\n",
    "       'KBA05_BAUMAX', 'LP_LEBENSPHASE_FEIN', 'LP_LEBENSPHASE_GROB', 'PLZ8_BAUMAX', 'WOHNLAGE']\n",
    "    df.drop(columns_to_drop, axis=1, inplace=True)\n",
    "    \n",
    "    # Change 'OST_WEST_KZ' from string binary categories to numeric \n",
    "    df.loc[:, 'OST_WEST_KZ'].replace(['W', 'O'], [0, 1], inplace=True)\n",
    "    \n",
    "    # One hot encode non binary categorical columns\n",
    "    to_one_hot_encode = ['CJT_GESAMTTYP', 'FINANZTYP', 'GFK_URLAUBERTYP', 'LP_FAMILIE_FEIN',\n",
    "                         'LP_FAMILIE_GROB', 'LP_STATUS_FEIN', 'LP_STATUS_GROB',\n",
    "                         'NATIONALITAET_KZ', 'SHOPPER_TYP', 'ZABEOTYP', 'GEBAEUDETYP',\n",
    "                         'CAMEO_DEUG_2015', 'CAMEO_DEU_2015']\n",
    "    df, categories = one_hot_encode(df, to_one_hot_encode, categories)\n",
    "    \n",
    "    # Make new attributes for 'PRAEGENDE_JUGENDJAHRE' and drop original\n",
    "    pj_dict = {1.0: (1, 1), 2.0: (1, 2), 3.0: (2, 1),\n",
    "               4.0: (2, 2), 5.0: (3, 1), 6.0: (3, 2),\n",
    "               7.0: (3, 2), 8.0: (4, 1), 9.0: (4, 2),\n",
    "               10.0: (5, 1), 11.0: (5, 2), 12.0: (5, 1),\n",
    "               13.0: (5, 2), 14.0: (6, 1), 15.0: (6, 2)}\n",
    "    \n",
    "    df['PRAEGENDE_JUGENDJAHRE_decade'] = df['PRAEGENDE_JUGENDJAHRE'].apply(lambda x: pj_funct(x, pj_dict, 0))\n",
    "    df['PRAEGENDE_JUGENDJAHRE_movement'] = df['PRAEGENDE_JUGENDJAHRE'].apply(lambda x: pj_funct(x, pj_dict, 1))\n",
    "    df.drop('PRAEGENDE_JUGENDJAHRE', axis=1, inplace=True)\n",
    "    \n",
    "    # Make new attributes for 'CAMEO_INTL_2015' and drop original\n",
    "    df['CAMEO_INTL_2015_wealth'] = df['CAMEO_INTL_2015'].apply(lambda x: ci_funct(x, 0))\n",
    "    df['CAMEO_INTL_2015_lifestage'] = df['CAMEO_INTL_2015'].apply(lambda x: ci_funct(x, 1))\n",
    "    df.drop('CAMEO_INTL_2015', axis=1, inplace=True)\n",
    "    \n",
    "    return df, categories, rows_to_drop"
   ]
  },
  {
   "cell_type": "code",
   "execution_count": 41,
   "metadata": {},
   "outputs": [],
   "source": [
    "df_clean, categories, df_rows_to_drop = clean_data(azdias.copy(), feat_info.copy())"
   ]
  },
  {
   "cell_type": "code",
   "execution_count": 42,
   "metadata": {},
   "outputs": [
    {
     "data": {
      "text/plain": [
       "(784155, 192)"
      ]
     },
     "execution_count": 42,
     "metadata": {},
     "output_type": "execute_result"
    }
   ],
   "source": [
    "df_clean.shape"
   ]
  },
  {
   "cell_type": "markdown",
   "metadata": {},
   "source": [
    "## Step 2: Feature Transformation\n",
    "\n",
    "### Step 2.1: Apply Feature Scaling\n",
    "\n",
    "Before we apply dimensionality reduction techniques to the data, we need to perform feature scaling so that the principal component vectors are not influenced by the natural differences in scale for features. Starting from this part of the project, you'll want to keep an eye on the [API reference page for sklearn](http://scikit-learn.org/stable/modules/classes.html) to help you navigate to all of the classes and functions that you'll need. In this substep, you'll need to check the following:\n",
    "\n",
    "- sklearn requires that data not have missing values in order for its estimators to work properly. So, before applying the scaler to your data, make sure that you've cleaned the DataFrame of the remaining missing values before applying your scaler. This can be as simple as just removing all data points with missing data, or applying an [Imputer](http://scikit-learn.org/stable/modules/generated/sklearn.preprocessing.Imputer.html) to replace all missing values. You might also try a more complicated procedure where you temporarily remove missing values in order to compute the scaling parameters before re-introducing those missing values and applying imputation. Think about how much missing data you have and what possible effects each approach might have on your analysis, and justify your decision in the discussion section below.\n",
    "- For the actual scaling function, a [StandardScaler](http://scikit-learn.org/stable/modules/generated/sklearn.preprocessing.StandardScaler.html) instance is suggested, scaling each feature to mean 0 and standard deviation 1.\n",
    "- For these classes, you can make use of the `.fit_transform()` method to both fit a procedure to the data as well as apply the transformation to the data at the same time. Don't forget to keep the fit sklearn objects handy, since you'll be applying them to the customer demographics data towards the end of the project."
   ]
  },
  {
   "cell_type": "code",
   "execution_count": 120,
   "metadata": {},
   "outputs": [],
   "source": [
    "# If you've not yet cleaned the dataset of all NaN values, then investigate and\n",
    "# do that now."
   ]
  },
  {
   "cell_type": "code",
   "execution_count": 43,
   "metadata": {},
   "outputs": [
    {
     "data": {
      "text/plain": [
       "564790"
      ]
     },
     "execution_count": 43,
     "metadata": {},
     "output_type": "execute_result"
    }
   ],
   "source": [
    "# Many missing values\n",
    "df_clean.isnull().sum().sum()"
   ]
  },
  {
   "cell_type": "code",
   "execution_count": 44,
   "metadata": {},
   "outputs": [
    {
     "data": {
      "image/png": "[encoded data removed]",
      "text/plain": [
       "<matplotlib.figure.Figure at 0x7f18a14f1278>"
      ]
     },
     "metadata": {},
     "output_type": "display_data"
    }
   ],
   "source": [
    "# Without 0\n",
    "missing_data_row = df_clean.isnull().sum(axis=1)\n",
    "plt.hist(missing_data_row, 25, (1,25))\n",
    "plt.xlabel('Missing Values')\n",
    "plt.ylabel('Number of Rows')\n",
    "plt.title('Histogram of Missing Values in Rows');"
   ]
  },
  {
   "cell_type": "code",
   "execution_count": 45,
   "metadata": {},
   "outputs": [
    {
     "data": {
      "image/png": "[encoded data removed]",
      "text/plain": [
       "<matplotlib.figure.Figure at 0x7f18a14df4a8>"
      ]
     },
     "metadata": {},
     "output_type": "display_data"
    }
   ],
   "source": [
    "# Perform an assessment of how much missing data there is in each column of the\n",
    "# dataset.\n",
    "missing_data_column = df_clean.isnull().sum()\n",
    "\n",
    "# Investigate patterns in the amount of missing data in each column.\n",
    "plt.hist(missing_data_column, 50, (1,70000))\n",
    "plt.xlabel('Missing Values')\n",
    "plt.ylabel('Number of columns')\n",
    "plt.title('Histogram of Missing Values in Columns');"
   ]
  },
  {
   "cell_type": "code",
   "execution_count": 46,
   "metadata": {},
   "outputs": [],
   "source": [
    "# Find columns names with missing values\n",
    "columns_NaN = missing_data_column[missing_data_column != 0].index.values\n",
    "columns_noNaN = missing_data_column[missing_data_column == 0].index.values"
   ]
  },
  {
   "cell_type": "code",
   "execution_count": 47,
   "metadata": {},
   "outputs": [
    {
     "name": "stdout",
     "output_type": "stream",
     "text": [
      "ALTERSKATEGORIE_GROB 0.7654464651156747\n",
      "HEALTH_TYP 0.24106325590057534\n",
      "RETOURTYP_BK_S 0.43289781618410045\n",
      "VERS_TYP 0.24000780538003474\n",
      "W_KEIT_KIND_HH 0.5159954283020836\n",
      "ANZ_HAUSHALTE_AKTIV 0.3571503685552714\n",
      "ANZ_HH_TITEL 0.22754267871826003\n",
      "KONSUMNAEHE 0.3453292248783368\n",
      "KBA05_ANTG1 0.6082784423479923\n"
     ]
    }
   ],
   "source": [
    "# Print columns with missing values and the maximum corrilation with \n",
    "# columns with no missing values\n",
    "for i, column in enumerate(columns_NaN):\n",
    "    if i < 9:\n",
    "        s = df_clean[columns_noNaN].apply(lambda x: x.corr(df_clean[column]))\n",
    "        print(column, max(abs(s.values).tolist()))"
   ]
  },
  {
   "cell_type": "markdown",
   "metadata": {},
   "source": [
    "## Replace missing values\n",
    "Many of the columns with missing data are strongly correlated with columns with no missing data. Replace missing values with a regression found from columns with no missing values. Worse case scenerio is you get the mean if they aren't correlated.\n",
    "Steps taken:\n",
    "1. Scale all columns with no missing value rows.\n",
    "2. Train regressors for each column that is missing data.\n",
    "3. Use regressors to find values for missing values in missing value data set."
   ]
  },
  {
   "cell_type": "code",
   "execution_count": 49,
   "metadata": {},
   "outputs": [],
   "source": [
    "def impute_general(df):\n",
    "    # Find rows and columns with missing data\n",
    "    missing_data_row = df.isnull().sum(axis=1)\n",
    "    missing_data_column = df.isnull().sum()\n",
    "    \n",
    "    # Find columns names with missing values\n",
    "    columns_NaN = missing_data_column[missing_data_column != 0].index.values\n",
    "    columns_noNaN = missing_data_column[missing_data_column == 0].index.values\n",
    "    \n",
    "    # Find row indexs with missing values\n",
    "    noNaN_index = missing_data_row[missing_data_row == 0].index\n",
    "    NaN_index = missing_data_row[missing_data_row != 0].index\n",
    "    \n",
    "    # Split into 4 based on NaNs in columns and rows.\n",
    "    df_noNaN_col_NaN_row = df.loc[NaN_index, columns_noNaN]\n",
    "    df_noNaN_col_noNaN_row = df.loc[noNaN_index, columns_noNaN]\n",
    "    df_NaN_col_NaN_row = df.loc[NaN_index, columns_NaN]\n",
    "    df_NaN_col_noNaN_row = df.loc[noNaN_index, columns_NaN]\n",
    "    \n",
    "    # Fit and transform on columns with no NaNs and rows with no NaNs.\n",
    "    # Transform on columns with no NaNs and rows with NaNs.\n",
    "    # Don't scale the columns with NaNs.\n",
    "    scaler_NaN = StandardScaler()\n",
    "    X_train = scaler_NaN.fit_transform(df_noNaN_col_noNaN_row) # scaled_noNaN_col_noNaN_row\n",
    "    X_test = scaler_NaN.transform(df_noNaN_col_NaN_row) # scaled_noNaN_col_NaN_row\n",
    "    Y_train = df_NaN_col_noNaN_row.values # No need to scale\n",
    "    \n",
    "    # Fit Regressor to with training data\n",
    "    regressor = MultiTaskElasticNet()\n",
    "    regressor.fit(X_train, Y_train)\n",
    "    \n",
    "    # Predict all values in the df with columns with NaNs and rows with NaNs\n",
    "    Y_test = regressor.predict(X_test)\n",
    "    df_Y_test = pd.DataFrame(Y_test, index = df_NaN_col_NaN_row.index, columns = df_NaN_col_NaN_row.columns)\n",
    "    \n",
    "    # Make sure the values are within the attribute possible values\n",
    "    min_max_values = ((1,4),(1,3),(1,5),(1,2),(1,6),(0,1000),(0, 10000),(1,7),(0,4),(0,4),(0,3),\n",
    "                     (0,3),(1,5),(1,7),(1,6),(1,8),(1,5),(1,4),(1,5),(1,5),(1,7),(0,1000000),(0,4),\n",
    "                     (0,4),(0,3),(0,2),(1,5),(1,5),(1,5),(1,5),(1,9),(1,5),(1,6),(1,2),(1,5),(1,5))\n",
    "\n",
    "    max_min_columns = zip(columns_NaN, min_max_values)\n",
    "    for column in max_min_columns:\n",
    "        df_Y_test[column[0]] = df_Y_test[column[0]].clip(lower=column[1][0], upper=column[1][1])\n",
    "\n",
    "    # Fill in NaNs with df_Y_test values\n",
    "    df_NaN_col_NaN_row.fillna(df_Y_test, inplace=True)\n",
    "    \n",
    "    # Remake df with no NaNs\n",
    "    df_noNaN = pd.concat([pd.concat([df_noNaN_col_NaN_row, df_NaN_col_NaN_row], axis=1),\n",
    "                               pd.concat([df_noNaN_col_noNaN_row, df_NaN_col_noNaN_row], axis=1)], axis=0)\n",
    "    df_noNaN = df_noNaN[df.columns].sort_index()\n",
    "    \n",
    "    return df_noNaN, columns_NaN, scaler_NaN, regressor"
   ]
  },
  {
   "cell_type": "code",
   "execution_count": 50,
   "metadata": {},
   "outputs": [],
   "source": [
    "df_general_noNaN, columns_NaN, scaler_NaN, regressor_NaN = impute_general(df_clean)"
   ]
  },
  {
   "cell_type": "code",
   "execution_count": 51,
   "metadata": {},
   "outputs": [],
   "source": [
    "# Apply feature scaling to the general population demographics data.\n",
    "scaler = StandardScaler()\n",
    "scaled = scaler.fit_transform(df_general_noNaN)"
   ]
  },
  {
   "cell_type": "markdown",
   "metadata": {},
   "source": [
    "### Discussion 2.1: Apply Feature Scaling\n",
    "\n",
    "I found columns with missing values and calculated the correlation of these columns with columns that have no missing values. I then printed the missing value columns out with the biggest correlation score. Since many of the columns are correlated fairly well with columns that have no missing values, I decided to use a regressor to fill in NaN values. The impute_general function takes a dataframe with missing values and uses the MultiTaskElasticNet class to fill in the NaN values. I return a dataframe with no missing values, along with a list of columns (that have NaN values) and  the scaler and regressor used. These will be used later on when I impute the customer data. \n",
    "\n",
    "I felt this method is better that filling with a mean value due to the highly correlated attributes. If there is not much correlation, the regressor fills the value with something close to the mean. Since at the end of the day we are after clusters that capture trends in the data, I felt like a regression would help accentuate clusters verses filling with a mean value. A mean value would have the effect of homogenizing the data. Dropping the rows with NaN values would also work but I decided against this due to the loss of information."
   ]
  },
  {
   "cell_type": "markdown",
   "metadata": {},
   "source": [
    "### Step 2.2: Perform Dimensionality Reduction\n",
    "\n",
    "On your scaled data, you are now ready to apply dimensionality reduction techniques.\n",
    "\n",
    "- Use sklearn's [PCA](http://scikit-learn.org/stable/modules/generated/sklearn.decomposition.PCA.html) class to apply principal component analysis on the data, thus finding the vectors of maximal variance in the data. To start, you should not set any parameters (so all components are computed) or set a number of components that is at least half the number of features (so there's enough features to see the general trend in variability).\n",
    "- Check out the ratio of variance explained by each principal component as well as the cumulative variance explained. Try plotting the cumulative or sequential values using matplotlib's [`plot()`](https://matplotlib.org/api/_as_gen/matplotlib.pyplot.plot.html) function. Based on what you find, select a value for the number of transformed features you'll retain for the clustering part of the project.\n",
    "- Once you've made a choice for the number of components to keep, make sure you re-fit a PCA instance to perform the decided-on transformation."
   ]
  },
  {
   "cell_type": "code",
   "execution_count": 30,
   "metadata": {},
   "outputs": [
    {
     "data": {
      "image/png": "[encoded data removed]",
      "text/plain": [
       "<matplotlib.figure.Figure at 0x7fb9788b8128>"
      ]
     },
     "metadata": {},
     "output_type": "display_data"
    }
   ],
   "source": [
    "# Apply PCA to the data.\n",
    "pca = PCA(n_components=100)\n",
    "pca.fit(scaled)\n",
    "\n",
    "# Investigate the variance accounted for by each principal component.\n",
    "var_ratio = pca.explained_variance_ratio_\n",
    "plt.bar(range(1, len(var_ratio) + 1), var_ratio * 100, align='center')\n",
    "plt.xlabel('Principle Component Number')\n",
    "plt.ylabel('Percent Varience Explained')\n",
    "plt.title('Percent Varience Explained by PCA Compontents');"
   ]
  },
  {
   "cell_type": "code",
   "execution_count": 52,
   "metadata": {},
   "outputs": [
    {
     "name": "stdout",
     "output_type": "stream",
     "text": [
      "The first five principle components account for 22% of the total variance\n"
     ]
    }
   ],
   "source": [
    "# Re-apply PCA to the data while selecting for number of components to retain.\n",
    "pca = PCA(n_components=5)\n",
    "pca.fit(scaled)\n",
    "\n",
    "print('The first five principle components account for {}% of the total variance'.format(\n",
    "    int(round(pca.explained_variance_ratio_.sum() * 100))))"
   ]
  },
  {
   "cell_type": "markdown",
   "metadata": {},
   "source": [
    "### Discussion 2.2: Perform Dimensionality Reduction\n",
    "\n",
    "Looking at the Percent Varience Explained by the first 100 PCA components, I chose to keep the first five components because each explains a significant amount more of the varience than the following component. After five, the components seem to level off. The first five components explain 23% of the varience.  "
   ]
  },
  {
   "cell_type": "markdown",
   "metadata": {},
   "source": [
    "### Step 2.3: Interpret Principal Components\n",
    "\n",
    "Now that we have our transformed principal components, it's a nice idea to check out the weight of each variable on the first few components to see if they can be interpreted in some fashion.\n",
    "\n",
    "As a reminder, each principal component is a unit vector that points in the direction of highest variance (after accounting for the variance captured by earlier principal components). The further a weight is from zero, the more the principal component is in the direction of the corresponding feature. If two features have large weights of the same sign (both positive or both negative), then increases in one tend expect to be associated with increases in the other. To contrast, features with different signs can be expected to show a negative correlation: increases in one variable should result in a decrease in the other.\n",
    "\n",
    "- To investigate the features, you should map each weight to their corresponding feature name, then sort the features according to weight. The most interesting features for each principal component, then, will be those at the beginning and end of the sorted list. Use the data dictionary document to help you understand these most prominent features, their relationships, and what a positive or negative value on the principal component might indicate.\n",
    "- You should investigate and interpret feature associations from the first three principal components in this substep. To help facilitate this, you should write a function that you can call at any time to print the sorted list of feature weights, for the *i*-th principal component. This might come in handy in the next step of the project, when you interpret the tendencies of the discovered clusters."
   ]
  },
  {
   "cell_type": "code",
   "execution_count": 53,
   "metadata": {},
   "outputs": [],
   "source": [
    "# Function to keep the first and last 2 attributes in the sorted list\n",
    "# of weighted attributes of the ith principle component.\n",
    "def component_sort(components, keys, i):\n",
    "    assert(len(components) > i and 0 <= i)\n",
    "    component = components[i]\n",
    "    name_weight = list(zip(keys, component))\n",
    "    name_weight.sort(key=lambda tup: tup[1],reverse=True)\n",
    "    keep = name_weight[:2] + name_weight[-2:]\n",
    "    return keep"
   ]
  },
  {
   "cell_type": "code",
   "execution_count": 54,
   "metadata": {},
   "outputs": [
    {
     "data": {
      "text/plain": [
       "[('LP_STATUS_GROB_1.0', 0.19553257499030591),\n",
       " ('HH_EINKOMMEN_SCORE', 0.1865301594468996),\n",
       " ('KBA05_ANTG1', -0.19544817733998701),\n",
       " ('MOBI_REGIO', -0.20854374985537871)]"
      ]
     },
     "execution_count": 54,
     "metadata": {},
     "output_type": "execute_result"
    }
   ],
   "source": [
    "# Map weights for the first principal component to corresponding feature names\n",
    "# and then print the linked values, sorted by weight.\n",
    "# HINT: Try defining a function here or in a new cell that you can reuse in the\n",
    "# other cells.\n",
    "component_sort(pca.components_, df_clean.keys(), 0)"
   ]
  },
  {
   "cell_type": "code",
   "execution_count": 55,
   "metadata": {},
   "outputs": [
    {
     "data": {
      "text/plain": [
       "[('ALTERSKATEGORIE_GROB', 0.23321464185666957),\n",
       " ('FINANZ_VORSORGER', 0.21920720401450633),\n",
       " ('FINANZ_SPARER', -0.22722744477757711),\n",
       " ('PRAEGENDE_JUGENDJAHRE_decade', -0.24191905879985545)]"
      ]
     },
     "execution_count": 55,
     "metadata": {},
     "output_type": "execute_result"
    }
   ],
   "source": [
    "# Map weights for the second principal component to corresponding feature names\n",
    "# and then print the linked values, sorted by weight.\n",
    "component_sort(pca.components_, df_clean.keys(), 1)"
   ]
  },
  {
   "cell_type": "code",
   "execution_count": 56,
   "metadata": {},
   "outputs": [
    {
     "data": {
      "text/plain": [
       "[('SEMIO_VERT', 0.31923818610356125),\n",
       " ('SEMIO_FAM', 0.26031546278721818),\n",
       " ('SEMIO_KAEM', -0.31513598334403031),\n",
       " ('ANREDE_KZ', -0.34497571182987957)]"
      ]
     },
     "execution_count": 56,
     "metadata": {},
     "output_type": "execute_result"
    }
   ],
   "source": [
    "# Map weights for the third principal component to corresponding feature names\n",
    "# and then print the linked values, sorted by weight.\n",
    "component_sort(pca.components_, df_clean.keys(), 2)"
   ]
  },
  {
   "cell_type": "markdown",
   "metadata": {},
   "source": [
    "### Discussion 2.3: Interpret Principal Components\n",
    "\n",
    "I printed out the strongest weighted attributes for the first 3 principle components. I will go through each component:\n",
    "1. 'MOBI_REGIO' = Regional Movement patterns (1-very high, 6-none)  \n",
    "'LP_STATUS_GROB_1.0' = Social status (0-all other earners, 1-low inclome earner)\n",
    "  * As the value of principle component (pc1) goes up, the regional movement patterns become higher and   \n",
    "   social status goes towards low income earner  \n",
    "\n",
    "\n",
    "2. 'PRAEGENDE_JUGENDJAHRE_decade' = Decade that individual grew up in (1-40s, 6-90s)  \n",
    "'ALTERSKATEGORIE_GROB' = age (1-young, 4-old)  \n",
    "'FINANZ_SPARER' = money saver (1-high, 5-low)\n",
    "  * As value of pc2 goes up, individual gets older and saves more  \n",
    "  \n",
    "\n",
    "3. 'ANREDE_KZ' = gender (1-male, 2-female)  \n",
    "'SEMIO_VERT' = dreamful (1-highest, 7-lowest)\n",
    "  * As value of pc3 goes up, individual is more likely to be male and less likely to be dreamful"
   ]
  },
  {
   "cell_type": "markdown",
   "metadata": {},
   "source": [
    "## Step 3: Clustering\n",
    "\n",
    "### Step 3.1: Apply Clustering to General Population\n",
    "\n",
    "You've assessed and cleaned the demographics data, then scaled and transformed them. Now, it's time to see how the data clusters in the principal components space. In this substep, you will apply k-means clustering to the dataset and use the average within-cluster distances from each point to their assigned cluster's centroid to decide on a number of clusters to keep.\n",
    "\n",
    "- Use sklearn's [KMeans](http://scikit-learn.org/stable/modules/generated/sklearn.cluster.KMeans.html#sklearn.cluster.KMeans) class to perform k-means clustering on the PCA-transformed data.\n",
    "- Then, compute the average difference from each point to its assigned cluster's center. **Hint**: The KMeans object's `.score()` method might be useful here, but note that in sklearn, scores tend to be defined so that larger is better. Try applying it to a small, toy dataset, or use an internet search to help your understanding.\n",
    "- Perform the above two steps for a number of different cluster counts. You can then see how the average distance decreases with an increasing number of clusters. However, each additional cluster provides a smaller net benefit. Use this fact to select a final number of clusters in which to group the data. **Warning**: because of the large size of the dataset, it can take a long time for the algorithm to resolve. The more clusters to fit, the longer the algorithm will take. You should test for cluster counts through at least 10 clusters to get the full picture, but you shouldn't need to test for a number of clusters above about 30.\n",
    "- Once you've selected a final number of clusters to use, re-fit a KMeans instance to perform the clustering operation. Make sure that you also obtain the cluster assignments for the general demographics data, since you'll be using them in the final Step 3.3."
   ]
  },
  {
   "cell_type": "code",
   "execution_count": 31,
   "metadata": {},
   "outputs": [],
   "source": [
    "# Plot negative of scores over a number of cluster sizes \n",
    "def plot_score(df, pca_model, max_clusters):\n",
    "    scores = []\n",
    "    transformed = pca_model.transform(df)\n",
    "    for n in range(2, max_clusters):\n",
    "        kmeans = KMeans(n_clusters=n, random_state=42).fit(transformed)\n",
    "        scores.append(-kmeans.score(transformed)/len(df))\n",
    "    plt.plot(range(2, max_clusters), scores)\n",
    "    plt.xlabel('Number of Clusters')\n",
    "    plt.ylabel('Negative of Score')\n",
    "    plt.title('Score vs Number of Clusters');"
   ]
  },
  {
   "cell_type": "code",
   "execution_count": 32,
   "metadata": {},
   "outputs": [
    {
     "data": {
      "image/png": "[encoded data removed]",
      "text/plain": [
       "<matplotlib.figure.Figure at 0x7fb978d64be0>"
      ]
     },
     "metadata": {},
     "output_type": "display_data"
    }
   ],
   "source": [
    "plot_score(scaled, pca, 14)"
   ]
  },
  {
   "cell_type": "code",
   "execution_count": 57,
   "metadata": {},
   "outputs": [],
   "source": [
    "# Re-fit the k-means model with the selected number of clusters and obtain\n",
    "# cluster predictions for the general population demographics data.\n",
    "kmeans = KMeans(n_clusters=5, random_state=42).fit(pca.transform(scaled))\n",
    "general_labels = kmeans.labels_\n"
   ]
  },
  {
   "cell_type": "markdown",
   "metadata": {},
   "source": [
    "### Discussion 3.1: Apply Clustering to General Population\n",
    "\n",
    "The average distance (proportional to negative of the score) decreases as the number of clusters increases. We can see that there are a couple elbows at 3 and 5 clusters, where before the elbows the distance is dropping at a much higher rate than after. I chose to use 5 clusters for this analysis to try and get a more precise idea of how the customer population compares to the general population."
   ]
  },
  {
   "cell_type": "markdown",
   "metadata": {},
   "source": [
    "### Step 3.2: Apply All Steps to the Customer Data\n",
    "\n",
    "Now that you have clusters and cluster centers for the general population, it's time to see how the customer data maps on to those clusters. Take care to not confuse this for re-fitting all of the models to the customer data. Instead, you're going to use the fits from the general population to clean, transform, and cluster the customer data. In the last step of the project, you will interpret how the general population fits apply to the customer data.\n",
    "\n",
    "- Don't forget when loading in the customers data, that it is semicolon (`;`) delimited.\n",
    "- Apply the same feature wrangling, selection, and engineering steps to the customer demographics using the `clean_data()` function you created earlier. (You can assume that the customer demographics data has similar meaning behind missing data patterns as the general demographics data.)\n",
    "- Use the sklearn objects from the general demographics data, and apply their transformations to the customers data. That is, you should not be using a `.fit()` or `.fit_transform()` method to re-fit the old objects, nor should you be creating new sklearn objects! Carry the data through the feature scaling, PCA, and clustering steps, obtaining cluster assignments for all of the data in the customer demographics data."
   ]
  },
  {
   "cell_type": "code",
   "execution_count": 58,
   "metadata": {},
   "outputs": [],
   "source": [
    "def impute_customer(df, columns_NaN, scaler_NaN, regressor):\n",
    "    missing_data_row = df.isnull().sum(axis=1)\n",
    "    \n",
    "    # Find columns names with no missing values\n",
    "    columns_noNaN = df.drop(columns_NaN, axis=1).columns\n",
    "    \n",
    "    # Find row indexs with missing values\n",
    "    noNaN_index = missing_data_row[missing_data_row == 0].index\n",
    "    NaN_index = missing_data_row[missing_data_row != 0].index\n",
    "    \n",
    "    # Split into 4\n",
    "    df_noNaN_col_NaN_row = df.loc[NaN_index, columns_noNaN]\n",
    "    df_noNaN_col_noNaN_row = df.loc[noNaN_index, columns_noNaN]\n",
    "    df_NaN_col_NaN_row = df.loc[NaN_index, columns_NaN]\n",
    "    df_NaN_col_noNaN_row = df.loc[noNaN_index, columns_NaN]\n",
    "    \n",
    "    # Get scaled X array\n",
    "    X_test = scaler_NaN.transform(df_noNaN_col_NaN_row) # scaled_noNaN_col_NaN_row\n",
    "    \n",
    "    # Predict\n",
    "    Y_test = regressor.predict(X_test)\n",
    "    df_Y_test = pd.DataFrame(Y_test, index = df_NaN_col_NaN_row.index, columns = df_NaN_col_NaN_row.columns)\n",
    "    \n",
    "    # Make sure the values are within the attribute possible values\n",
    "    min_max_values = ((1,4),(1,3),(1,5),(1,2),(1,6),(0,1000),(0, 10000),(1,7),(0,4),(0,4),(0,3),\n",
    "                     (0,3),(1,5),(1,7),(1,6),(1,8),(1,5),(1,4),(1,5),(1,5),(1,7),(0,1000000),(0,4),\n",
    "                     (0,4),(0,3),(0,2),(1,5),(1,5),(1,5),(1,5),(1,9),(1,5),(1,6),(1,2),(1,5),(1,5))\n",
    "\n",
    "    max_min_columns = zip(columns_NaN, min_max_values)\n",
    "    for column in max_min_columns:\n",
    "        df_Y_test[column[0]] = df_Y_test[column[0]].clip(lower=column[1][0], upper=column[1][1])\n",
    "    \n",
    "    # Fill in NaNs with df_Y_test values\n",
    "    df_NaN_col_NaN_row.fillna(df_Y_test, inplace=True)\n",
    "    \n",
    "    # Remake df with no NaNs\n",
    "    df_noNaN = pd.concat([pd.concat([df_noNaN_col_NaN_row, df_NaN_col_NaN_row], axis=1),\n",
    "                               pd.concat([df_noNaN_col_noNaN_row, df_NaN_col_noNaN_row], axis=1)], axis=0)\n",
    "    df_noNaN = df_noNaN[df.columns].sort_index()\n",
    "    \n",
    "    return df_noNaN"
   ]
  },
  {
   "cell_type": "code",
   "execution_count": 59,
   "metadata": {},
   "outputs": [],
   "source": [
    "# Load in the customer demographics data.\n",
    "customers = pd.read_csv('Udacity_CUSTOMERS_Subset.csv', sep=';')\n",
    "\n",
    "# Apply preprocessing, feature transformation, and clustering from the general\n",
    "# demographics onto the customer data, obtaining cluster predictions for the\n",
    "# customer demographics data.\n",
    "customers_clean, _, customer_rows_to_drop = clean_data(customers.copy(), feat_info.copy(), categories=categories)\n",
    "\n",
    "customers_noNaN = impute_customer(customers_clean, columns_NaN, scaler_NaN, regressor_NaN)\n",
    "\n",
    "customers_noNaN_scaled = scaler.transform(customers_noNaN)\n",
    "customers_noNaN_pca = pca.transform(customers_noNaN_scaled)\n",
    "customers_noNaN_labels = kmeans.predict(customers_noNaN_pca)"
   ]
  },
  {
   "cell_type": "markdown",
   "metadata": {},
   "source": [
    "### Step 3.3: Compare Customer Data to Demographics Data\n",
    "\n",
    "At this point, you have clustered data based on demographics of the general population of Germany, and seen how the customer data for a mail-order sales company maps onto those demographic clusters. In this final substep, you will compare the two cluster distributions to see where the strongest customer base for the company is.\n",
    "\n",
    "Consider the proportion of persons in each cluster for the general population, and the proportions for the customers. If we think the company's customer base to be universal, then the cluster assignment proportions should be fairly similar between the two. If there are only particular segments of the population that are interested in the company's products, then we should see a mismatch from one to the other. If there is a higher proportion of persons in a cluster for the customer data compared to the general population (e.g. 5% of persons are assigned to a cluster for the general population, but 15% of the customer data is closest to that cluster's centroid) then that suggests the people in that cluster to be a target audience for the company. On the other hand, the proportion of the data in a cluster being larger in the general population than the customer data (e.g. only 2% of customers closest to a population centroid that captures 6% of the data) suggests that group of persons to be outside of the target demographics.\n",
    "\n",
    "Take a look at the following points in this step:\n",
    "\n",
    "- Compute the proportion of data points in each cluster for the general population and the customer data. Visualizations will be useful here: both for the individual dataset proportions, but also to visualize the ratios in cluster representation between groups. Seaborn's [`countplot()`](https://seaborn.pydata.org/generated/seaborn.countplot.html) or [`barplot()`](https://seaborn.pydata.org/generated/seaborn.barplot.html) function could be handy.\n",
    "  - Recall the analysis you performed in step 1.1.3 of the project, where you separated out certain data points from the dataset if they had more than a specified threshold of missing values. If you found that this group was qualitatively different from the main bulk of the data, you should treat this as an additional data cluster in this analysis. Make sure that you account for the number of data points in this subset, for both the general population and customer datasets, when making your computations!\n",
    "- Which cluster or clusters are overrepresented in the customer dataset compared to the general population? Select at least one such cluster and infer what kind of people might be represented by that cluster. Use the principal component interpretations from step 2.3 or look at additional components to help you make this inference. Alternatively, you can use the `.inverse_transform()` method of the PCA and StandardScaler objects to transform centroids back to the original data space and interpret the retrieved values directly.\n",
    "- Perform a similar investigation for the underrepresented clusters. Which cluster or clusters are underrepresented in the customer dataset compared to the general population, and what kinds of people are typified by these clusters?"
   ]
  },
  {
   "cell_type": "code",
   "execution_count": 72,
   "metadata": {},
   "outputs": [
    {
     "name": "stdout",
     "output_type": "stream",
     "text": [
      "Cluster 0 has 16% of the general population\n",
      "Cluster 1 has 22% of the general population\n",
      "Cluster 2 has 14% of the general population\n",
      "Cluster 3 has 18% of the general population\n",
      "Cluster 4 has 19% of the general population\n",
      "Cluster 5 has 12% of the general population\n"
     ]
    },
    {
     "data": {
      "image/png": "[encoded data removed]",
      "text/plain": [
       "<matplotlib.figure.Figure at 0x7f18a14f1710>"
      ]
     },
     "metadata": {},
     "output_type": "display_data"
    }
   ],
   "source": [
    "# General Population\n",
    "counts = collections.Counter(kmeans.labels_)\n",
    "\n",
    "# Append the number of rows that we dropped in the cleaning phase.\n",
    "counts[5] = len(azdias) - len(kmeans.labels_)\n",
    "percents = []\n",
    "for i in range(6):\n",
    "    percent = round(counts[i]*100/len(azdias))\n",
    "    percents.append(percent)\n",
    "    print('Cluster {} has {}% of the general population'.format(i, percent))\n",
    "\n",
    "# Distribution of clusters for general population\n",
    "sns.barplot(x = list(range(6)), y = percents);\n",
    "plt.xlabel('Cluster Number')\n",
    "plt.ylabel('Percent')\n",
    "plt.title('Percent of General Population in Clusters');"
   ]
  },
  {
   "cell_type": "code",
   "execution_count": 73,
   "metadata": {},
   "outputs": [
    {
     "name": "stdout",
     "output_type": "stream",
     "text": [
      "Cluster 0 has 3% of the customer population\n",
      "Cluster 1 has 15% of the customer population\n",
      "Cluster 2 has 35% of the customer population\n",
      "Cluster 3 has 19% of the customer population\n",
      "Cluster 4 has 2% of the customer population\n",
      "Cluster 5 has 27% of the customer population\n"
     ]
    },
    {
     "data": {
      "image/png": "[encoded data removed]",
      "text/plain": [
       "<matplotlib.figure.Figure at 0x7f18a14f1f98>"
      ]
     },
     "metadata": {},
     "output_type": "display_data"
    }
   ],
   "source": [
    "# Customer Population\n",
    "counts = collections.Counter(customers_noNaN_labels)\n",
    "\n",
    "# Append the number of rows that we dropped in the cleaning phase.\n",
    "counts[5] = len(customers) - len(customers_noNaN_labels)\n",
    "percents = []\n",
    "for i in range(6):\n",
    "    percent = round(counts[i]*100/len(customers))\n",
    "    percents.append(percent)\n",
    "    print('Cluster {} has {}% of the customer population'.format(i, percent))\n",
    "\n",
    "# Distribution of clusters for general population\n",
    "sns.barplot(x = list(range(6)), y = percents);\n",
    "plt.xlabel('Cluster Number')\n",
    "plt.ylabel('Percent')\n",
    "plt.title('Percent of Customer Population in Clusters');"
   ]
  },
  {
   "cell_type": "code",
   "execution_count": 62,
   "metadata": {},
   "outputs": [],
   "source": [
    "# Find cluster centers in original attribute space\n",
    "df_centroid_clean = pd.DataFrame(np.round(scaler.inverse_transform(pca.inverse_transform(kmeans.cluster_centers_)), 1),\n",
    "                           columns = df_general_noNaN.keys()) "
   ]
  },
  {
   "cell_type": "code",
   "execution_count": 64,
   "metadata": {},
   "outputs": [
    {
     "data": {
      "text/html": [
       "<div>\n",
       "<style>\n",
       "    .dataframe thead tr:only-child th {\n",
       "        text-align: right;\n",
       "    }\n",
       "\n",
       "    .dataframe thead th {\n",
       "        text-align: left;\n",
       "    }\n",
       "\n",
       "    .dataframe tbody tr th {\n",
       "        vertical-align: top;\n",
       "    }\n",
       "</style>\n",
       "<table border=\"1\" class=\"dataframe\">\n",
       "  <thead>\n",
       "    <tr style=\"text-align: right;\">\n",
       "      <th></th>\n",
       "      <th>MOBI_REGIO</th>\n",
       "      <th>LP_STATUS_GROB_1.0</th>\n",
       "    </tr>\n",
       "  </thead>\n",
       "  <tbody>\n",
       "    <tr>\n",
       "      <th>0</th>\n",
       "      <td>3.9</td>\n",
       "      <td>0.2</td>\n",
       "    </tr>\n",
       "    <tr>\n",
       "      <th>1</th>\n",
       "      <td>1.9</td>\n",
       "      <td>0.7</td>\n",
       "    </tr>\n",
       "    <tr>\n",
       "      <th>2</th>\n",
       "      <td>4.2</td>\n",
       "      <td>-0.0</td>\n",
       "    </tr>\n",
       "    <tr>\n",
       "      <th>3</th>\n",
       "      <td>4.0</td>\n",
       "      <td>0.1</td>\n",
       "    </tr>\n",
       "    <tr>\n",
       "      <th>4</th>\n",
       "      <td>1.8</td>\n",
       "      <td>0.8</td>\n",
       "    </tr>\n",
       "  </tbody>\n",
       "</table>\n",
       "</div>"
      ],
      "text/plain": [
       "   MOBI_REGIO  LP_STATUS_GROB_1.0\n",
       "0         3.9                 0.2\n",
       "1         1.9                 0.7\n",
       "2         4.2                -0.0\n",
       "3         4.0                 0.1\n",
       "4         1.8                 0.8"
      ]
     },
     "execution_count": 64,
     "metadata": {},
     "output_type": "execute_result"
    }
   ],
   "source": [
    "# Find values of top 2 attributes (in principle component 0) for cluster centers\n",
    "\n",
    "# Find the top 2 attributes that contribute to component i\n",
    "def component_sort(components, keys, i):\n",
    "    assert(len(components) > i and 0 <= i)\n",
    "    component = components[i]\n",
    "    name_weight = list(zip(keys, component))\n",
    "    name_weight.sort(key=lambda tup: abs(tup[1]),reverse=True)\n",
    "    return name_weight[:2]\n",
    "\n",
    "pca_compontent_0 = component_sort(pca.components_, df_general_noNaN.keys(), 0)\n",
    "\n",
    "# Top attributes for first principle component\n",
    "df_centroid_clean[np.array(pca_compontent_0)[:, 0]]"
   ]
  },
  {
   "cell_type": "code",
   "execution_count": 66,
   "metadata": {},
   "outputs": [
    {
     "data": {
      "text/html": [
       "<div>\n",
       "<style>\n",
       "    .dataframe thead tr:only-child th {\n",
       "        text-align: right;\n",
       "    }\n",
       "\n",
       "    .dataframe thead th {\n",
       "        text-align: left;\n",
       "    }\n",
       "\n",
       "    .dataframe tbody tr th {\n",
       "        vertical-align: top;\n",
       "    }\n",
       "</style>\n",
       "<table border=\"1\" class=\"dataframe\">\n",
       "  <thead>\n",
       "    <tr style=\"text-align: right;\">\n",
       "      <th></th>\n",
       "      <th>Movement patterns in region</th>\n",
       "      <th>Social status</th>\n",
       "    </tr>\n",
       "  </thead>\n",
       "  <tbody>\n",
       "    <tr>\n",
       "      <th>cluster_0</th>\n",
       "      <td>low</td>\n",
       "      <td>higher</td>\n",
       "    </tr>\n",
       "    <tr>\n",
       "      <th>cluster_1</th>\n",
       "      <td>high</td>\n",
       "      <td>low</td>\n",
       "    </tr>\n",
       "    <tr>\n",
       "      <th>cluster_2</th>\n",
       "      <td>low</td>\n",
       "      <td>higher</td>\n",
       "    </tr>\n",
       "    <tr>\n",
       "      <th>cluster_3</th>\n",
       "      <td>low</td>\n",
       "      <td>higher</td>\n",
       "    </tr>\n",
       "    <tr>\n",
       "      <th>cluster_4</th>\n",
       "      <td>high</td>\n",
       "      <td>low</td>\n",
       "    </tr>\n",
       "  </tbody>\n",
       "</table>\n",
       "</div>"
      ],
      "text/plain": [
       "          Movement patterns in region Social status\n",
       "cluster_0                         low        higher\n",
       "cluster_1                        high           low\n",
       "cluster_2                         low        higher\n",
       "cluster_3                         low        higher\n",
       "cluster_4                        high           low"
      ]
     },
     "execution_count": 66,
     "metadata": {},
     "output_type": "execute_result"
    }
   ],
   "source": [
    "# Manually make previous dataframe into english using Data_Dictionary.md \n",
    "\n",
    "df_centroid_eng_0 = pd.DataFrame([['low', 'higher'], ['high', 'low'], ['low', 'higher'],\n",
    "                                  ['low', 'higher'], ['high', 'low']],\n",
    "                                 index= ['cluster_0', 'cluster_1', 'cluster_2', 'cluster_3', 'cluster_4'],\n",
    "                                 columns= ['Movement patterns in region', 'Social status'])\n",
    "df_centroid_eng_0"
   ]
  },
  {
   "cell_type": "code",
   "execution_count": 65,
   "metadata": {},
   "outputs": [
    {
     "data": {
      "text/html": [
       "<div>\n",
       "<style>\n",
       "    .dataframe thead tr:only-child th {\n",
       "        text-align: right;\n",
       "    }\n",
       "\n",
       "    .dataframe thead th {\n",
       "        text-align: left;\n",
       "    }\n",
       "\n",
       "    .dataframe tbody tr th {\n",
       "        vertical-align: top;\n",
       "    }\n",
       "</style>\n",
       "<table border=\"1\" class=\"dataframe\">\n",
       "  <thead>\n",
       "    <tr style=\"text-align: right;\">\n",
       "      <th></th>\n",
       "      <th>PRAEGENDE_JUGENDJAHRE_decade</th>\n",
       "      <th>FINANZ_SPARER</th>\n",
       "    </tr>\n",
       "  </thead>\n",
       "  <tbody>\n",
       "    <tr>\n",
       "      <th>0</th>\n",
       "      <td>5.7</td>\n",
       "      <td>3.9</td>\n",
       "    </tr>\n",
       "    <tr>\n",
       "      <th>1</th>\n",
       "      <td>3.3</td>\n",
       "      <td>1.9</td>\n",
       "    </tr>\n",
       "    <tr>\n",
       "      <th>2</th>\n",
       "      <td>3.7</td>\n",
       "      <td>1.7</td>\n",
       "    </tr>\n",
       "    <tr>\n",
       "      <th>3</th>\n",
       "      <td>3.5</td>\n",
       "      <td>1.7</td>\n",
       "    </tr>\n",
       "    <tr>\n",
       "      <th>4</th>\n",
       "      <td>5.7</td>\n",
       "      <td>4.3</td>\n",
       "    </tr>\n",
       "  </tbody>\n",
       "</table>\n",
       "</div>"
      ],
      "text/plain": [
       "   PRAEGENDE_JUGENDJAHRE_decade  FINANZ_SPARER\n",
       "0                           5.7            3.9\n",
       "1                           3.3            1.9\n",
       "2                           3.7            1.7\n",
       "3                           3.5            1.7\n",
       "4                           5.7            4.3"
      ]
     },
     "execution_count": 65,
     "metadata": {},
     "output_type": "execute_result"
    }
   ],
   "source": [
    "# Find values of top 2 attributes (in principle component 0) for cluster centers\n",
    "\n",
    "# Use 3rd best attribute because second is too close to the first (decades growing up vs age)\n",
    "def component_sort(components, keys, i):\n",
    "    assert(len(components) > i and 0 <= i)\n",
    "    component = components[i]\n",
    "    name_weight = list(zip(keys, component))\n",
    "    name_weight.sort(key=lambda tup: abs(tup[1]),reverse=True)\n",
    "    return [name_weight[0], name_weight[2]]\n",
    "\n",
    "pca_compontent_1 = component_sort(pca.components_, df_general_noNaN.keys(), 1)\n",
    "\n",
    "# Top attributes for second principle component\n",
    "df_centroid_clean[np.array(pca_compontent_1)[:, 0]]"
   ]
  },
  {
   "cell_type": "code",
   "execution_count": 67,
   "metadata": {},
   "outputs": [
    {
     "data": {
      "text/html": [
       "<div>\n",
       "<style>\n",
       "    .dataframe thead tr:only-child th {\n",
       "        text-align: right;\n",
       "    }\n",
       "\n",
       "    .dataframe thead th {\n",
       "        text-align: left;\n",
       "    }\n",
       "\n",
       "    .dataframe tbody tr th {\n",
       "        vertical-align: top;\n",
       "    }\n",
       "</style>\n",
       "<table border=\"1\" class=\"dataframe\">\n",
       "  <thead>\n",
       "    <tr style=\"text-align: right;\">\n",
       "      <th></th>\n",
       "      <th>Decade of youth</th>\n",
       "      <th>money-saver</th>\n",
       "    </tr>\n",
       "  </thead>\n",
       "  <tbody>\n",
       "    <tr>\n",
       "      <th>cluster_0</th>\n",
       "      <td>upper 80s</td>\n",
       "      <td>low</td>\n",
       "    </tr>\n",
       "    <tr>\n",
       "      <th>cluster_1</th>\n",
       "      <td>mid 60s</td>\n",
       "      <td>high</td>\n",
       "    </tr>\n",
       "    <tr>\n",
       "      <th>cluster_2</th>\n",
       "      <td>upper 60s</td>\n",
       "      <td>high</td>\n",
       "    </tr>\n",
       "    <tr>\n",
       "      <th>cluster_3</th>\n",
       "      <td>mid 60s</td>\n",
       "      <td>high</td>\n",
       "    </tr>\n",
       "    <tr>\n",
       "      <th>cluster_4</th>\n",
       "      <td>upper 80s</td>\n",
       "      <td>low</td>\n",
       "    </tr>\n",
       "  </tbody>\n",
       "</table>\n",
       "</div>"
      ],
      "text/plain": [
       "          Decade of youth money-saver\n",
       "cluster_0       upper 80s         low\n",
       "cluster_1         mid 60s        high\n",
       "cluster_2       upper 60s        high\n",
       "cluster_3         mid 60s        high\n",
       "cluster_4       upper 80s         low"
      ]
     },
     "execution_count": 67,
     "metadata": {},
     "output_type": "execute_result"
    }
   ],
   "source": [
    "# Manually make previous dataframe into english using Data_Dictionary.md \n",
    "\n",
    "df_centroid_eng_1 = pd.DataFrame([['upper 80s', 'low'], ['mid 60s', 'high'], ['upper 60s', 'high'],\n",
    "                                  ['mid 60s', 'high'], ['upper 80s', 'low']],\n",
    "                                 index= ['cluster_0', 'cluster_1', 'cluster_2', 'cluster_3', 'cluster_4'],\n",
    "                                 columns= ['Decade of youth', 'money-saver'])\n",
    "df_centroid_eng_1"
   ]
  },
  {
   "cell_type": "code",
   "execution_count": 68,
   "metadata": {},
   "outputs": [
    {
     "data": {
      "text/html": [
       "<div>\n",
       "<style>\n",
       "    .dataframe thead tr:only-child th {\n",
       "        text-align: right;\n",
       "    }\n",
       "\n",
       "    .dataframe thead th {\n",
       "        text-align: left;\n",
       "    }\n",
       "\n",
       "    .dataframe tbody tr th {\n",
       "        vertical-align: top;\n",
       "    }\n",
       "</style>\n",
       "<table border=\"1\" class=\"dataframe\">\n",
       "  <thead>\n",
       "    <tr style=\"text-align: right;\">\n",
       "      <th></th>\n",
       "      <th>Movement patterns in region</th>\n",
       "      <th>Social status</th>\n",
       "      <th>Decade of youth</th>\n",
       "      <th>money-saver</th>\n",
       "    </tr>\n",
       "  </thead>\n",
       "  <tbody>\n",
       "    <tr>\n",
       "      <th>cluster_0</th>\n",
       "      <td>low</td>\n",
       "      <td>higher</td>\n",
       "      <td>upper 80s</td>\n",
       "      <td>low</td>\n",
       "    </tr>\n",
       "    <tr>\n",
       "      <th>cluster_1</th>\n",
       "      <td>high</td>\n",
       "      <td>low</td>\n",
       "      <td>mid 60s</td>\n",
       "      <td>high</td>\n",
       "    </tr>\n",
       "    <tr>\n",
       "      <th>cluster_2</th>\n",
       "      <td>low</td>\n",
       "      <td>higher</td>\n",
       "      <td>upper 60s</td>\n",
       "      <td>high</td>\n",
       "    </tr>\n",
       "    <tr>\n",
       "      <th>cluster_3</th>\n",
       "      <td>low</td>\n",
       "      <td>higher</td>\n",
       "      <td>mid 60s</td>\n",
       "      <td>high</td>\n",
       "    </tr>\n",
       "    <tr>\n",
       "      <th>cluster_4</th>\n",
       "      <td>high</td>\n",
       "      <td>low</td>\n",
       "      <td>upper 80s</td>\n",
       "      <td>low</td>\n",
       "    </tr>\n",
       "  </tbody>\n",
       "</table>\n",
       "</div>"
      ],
      "text/plain": [
       "          Movement patterns in region Social status Decade of youth  \\\n",
       "cluster_0                         low        higher       upper 80s   \n",
       "cluster_1                        high           low         mid 60s   \n",
       "cluster_2                         low        higher       upper 60s   \n",
       "cluster_3                         low        higher         mid 60s   \n",
       "cluster_4                        high           low       upper 80s   \n",
       "\n",
       "          money-saver  \n",
       "cluster_0         low  \n",
       "cluster_1        high  \n",
       "cluster_2        high  \n",
       "cluster_3        high  \n",
       "cluster_4         low  "
      ]
     },
     "execution_count": 68,
     "metadata": {},
     "output_type": "execute_result"
    }
   ],
   "source": [
    "# Combine\n",
    "df_centroid_eng = df_centroid_eng_0.merge(df_centroid_eng_1, left_index=True, right_index=True)\n",
    "df_centroid_eng"
   ]
  },
  {
   "cell_type": "code",
   "execution_count": 69,
   "metadata": {},
   "outputs": [
    {
     "data": {
      "text/plain": [
       "Movement patterns in region          low\n",
       "Social status                     higher\n",
       "Decade of youth                upper 60s\n",
       "money-saver                         high\n",
       "Name: cluster_2, dtype: object"
      ]
     },
     "execution_count": 69,
     "metadata": {},
     "output_type": "execute_result"
    }
   ],
   "source": [
    "# What kinds of people are part of a cluster that is overrepresented in the\n",
    "# customer data compared to the general population?\n",
    "df_centroid_eng.loc['cluster_2']"
   ]
  },
  {
   "cell_type": "code",
   "execution_count": 70,
   "metadata": {},
   "outputs": [
    {
     "data": {
      "text/plain": [
       "Movement patterns in region         high\n",
       "Social status                        low\n",
       "Decade of youth                upper 80s\n",
       "money-saver                          low\n",
       "Name: cluster_4, dtype: object"
      ]
     },
     "execution_count": 70,
     "metadata": {},
     "output_type": "execute_result"
    }
   ],
   "source": [
    "# What kinds of people are part of a cluster that is underrepresented in the\n",
    "# customer data compared to the general population?\n",
    "df_centroid_eng.loc['cluster_4']"
   ]
  },
  {
   "cell_type": "markdown",
   "metadata": {},
   "source": [
    "### Discussion 3.3: Compare Customer Data to Demographics Data\n",
    "\n",
    "I made two bar charts corrisponding to the general population and customer population. Each bar chart has clusters on the x-axis and percent of population on the y-axis. The cluster that increases the most from the general population to cluster population is cluster_2. The cluster that decreases the most is cluster_4.\n",
    "\n",
    "To get a sense of what type of person belongs to cluster_2 and cluster_4, I found the values of the cluster center for the attributes that have the most varience within the first 2 principle components. The 4 attributes with the most varience are:\n",
    "\n",
    "1. MOBI_REGIO = Movement patterns in region\n",
    "2. LP_STATUS_GROB_1.0 = Social Status\n",
    "3. PRAEGENDE_JUGENDJAHRE_decade = Decade of youth\n",
    "4. FINANZ_SPARER = Money-Savor\n",
    "\n",
    "The values of the cluster center in these 4 attributes paints a picture of what type of person is most likely to be a customer of the mail order company along with what type of person is least likely to be a customer.\n",
    "\n",
    "1. Customers tend to live in a region that has low movement patterns, a higher social status (make more money), grew up in the 60s and save money.\n",
    "2. Individuals not likely to be customers tend to live in a region that has high movement patterns, are of a lower social status, grew up in the 80s and don't save money.\n",
    "\n",
    "One final note, cluster_5 is made up of people we dropped because they had missing regional and micro-cell data. This cluster went from 12% of the general population to 27% of the customer population. Missing regional and micro-cell data does seem to happen more often in the customer population as compared to the general population. "
   ]
  },
  {
   "cell_type": "markdown",
   "metadata": {},
   "source": [
    "> Congratulations on making it this far in the project! Before you finish, make sure to check through the entire notebook from top to bottom to make sure that your analysis follows a logical flow and all of your findings are documented in **Discussion** cells. Once you've checked over all of your work, you should export the notebook as an HTML document to submit for evaluation. You can do this from the menu, navigating to **File -> Download as -> HTML (.html)**. You will submit both that document and this notebook for your project submission."
   ]
  },
  {
   "cell_type": "code",
   "execution_count": null,
   "metadata": {},
   "outputs": [],
   "source": []
  }
 ],
 "metadata": {
  "kernelspec": {
   "display_name": "Python 3",
   "language": "python",
   "name": "python3"
  },
  "language_info": {
   "codemirror_mode": {
    "name": "ipython",
    "version": 3
   },
   "file_extension": ".py",
   "mimetype": "text/x-python",
   "name": "python",
   "nbconvert_exporter": "python",
   "pygments_lexer": "ipython3",
   "version": "3.6.3"
  }
 },
 "nbformat": 4,
 "nbformat_minor": 2
}
